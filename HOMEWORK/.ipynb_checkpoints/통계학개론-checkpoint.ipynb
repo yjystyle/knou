{
 "cells": [
  {
   "cell_type": "code",
   "execution_count": 9,
   "metadata": {},
   "outputs": [],
   "source": [
    "male <- c(49, 58, 62,86, 82, 72,40, 52, 65,45, 56, 60,48, 50, 64,93, 85, 70,97, 80, 78,58, 60, 67,58, 62, 69,98, 80, 88)\n",
    "female <- c(60, 68,72, 72,66, 67,65, 61,75, 62,78, 72,62, 79,64, 71,74, 74,58,73)"
   ]
  },
  {
   "cell_type": "code",
   "execution_count": 10,
   "metadata": {
    "scrolled": false
   },
   "outputs": [
    {
     "data": {
      "text/html": [
       "<ol class=list-inline>\n",
       "\t<li>49</li>\n",
       "\t<li>58</li>\n",
       "\t<li>62</li>\n",
       "\t<li>86</li>\n",
       "\t<li>82</li>\n",
       "\t<li>72</li>\n",
       "\t<li>40</li>\n",
       "\t<li>52</li>\n",
       "\t<li>65</li>\n",
       "\t<li>45</li>\n",
       "\t<li>56</li>\n",
       "\t<li>60</li>\n",
       "\t<li>48</li>\n",
       "\t<li>50</li>\n",
       "\t<li>64</li>\n",
       "\t<li>93</li>\n",
       "\t<li>85</li>\n",
       "\t<li>70</li>\n",
       "\t<li>97</li>\n",
       "\t<li>80</li>\n",
       "\t<li>78</li>\n",
       "\t<li>58</li>\n",
       "\t<li>60</li>\n",
       "\t<li>67</li>\n",
       "\t<li>58</li>\n",
       "\t<li>62</li>\n",
       "\t<li>69</li>\n",
       "\t<li>98</li>\n",
       "\t<li>80</li>\n",
       "\t<li>88</li>\n",
       "</ol>\n"
      ],
      "text/latex": [
       "\\begin{enumerate*}\n",
       "\\item 49\n",
       "\\item 58\n",
       "\\item 62\n",
       "\\item 86\n",
       "\\item 82\n",
       "\\item 72\n",
       "\\item 40\n",
       "\\item 52\n",
       "\\item 65\n",
       "\\item 45\n",
       "\\item 56\n",
       "\\item 60\n",
       "\\item 48\n",
       "\\item 50\n",
       "\\item 64\n",
       "\\item 93\n",
       "\\item 85\n",
       "\\item 70\n",
       "\\item 97\n",
       "\\item 80\n",
       "\\item 78\n",
       "\\item 58\n",
       "\\item 60\n",
       "\\item 67\n",
       "\\item 58\n",
       "\\item 62\n",
       "\\item 69\n",
       "\\item 98\n",
       "\\item 80\n",
       "\\item 88\n",
       "\\end{enumerate*}\n"
      ],
      "text/markdown": [
       "1. 49\n",
       "2. 58\n",
       "3. 62\n",
       "4. 86\n",
       "5. 82\n",
       "6. 72\n",
       "7. 40\n",
       "8. 52\n",
       "9. 65\n",
       "10. 45\n",
       "11. 56\n",
       "12. 60\n",
       "13. 48\n",
       "14. 50\n",
       "15. 64\n",
       "16. 93\n",
       "17. 85\n",
       "18. 70\n",
       "19. 97\n",
       "20. 80\n",
       "21. 78\n",
       "22. 58\n",
       "23. 60\n",
       "24. 67\n",
       "25. 58\n",
       "26. 62\n",
       "27. 69\n",
       "28. 98\n",
       "29. 80\n",
       "30. 88\n",
       "\n",
       "\n"
      ],
      "text/plain": [
       " [1] 49 58 62 86 82 72 40 52 65 45 56 60 48 50 64 93 85 70 97 80 78 58 60 67 58\n",
       "[26] 62 69 98 80 88"
      ]
     },
     "metadata": {},
     "output_type": "display_data"
    },
    {
     "data": {
      "text/html": [
       "<ol class=list-inline>\n",
       "\t<li>60</li>\n",
       "\t<li>68</li>\n",
       "\t<li>72</li>\n",
       "\t<li>72</li>\n",
       "\t<li>66</li>\n",
       "\t<li>67</li>\n",
       "\t<li>65</li>\n",
       "\t<li>61</li>\n",
       "\t<li>75</li>\n",
       "\t<li>62</li>\n",
       "\t<li>78</li>\n",
       "\t<li>72</li>\n",
       "\t<li>62</li>\n",
       "\t<li>79</li>\n",
       "\t<li>64</li>\n",
       "\t<li>71</li>\n",
       "\t<li>74</li>\n",
       "\t<li>74</li>\n",
       "\t<li>58</li>\n",
       "\t<li>73</li>\n",
       "</ol>\n"
      ],
      "text/latex": [
       "\\begin{enumerate*}\n",
       "\\item 60\n",
       "\\item 68\n",
       "\\item 72\n",
       "\\item 72\n",
       "\\item 66\n",
       "\\item 67\n",
       "\\item 65\n",
       "\\item 61\n",
       "\\item 75\n",
       "\\item 62\n",
       "\\item 78\n",
       "\\item 72\n",
       "\\item 62\n",
       "\\item 79\n",
       "\\item 64\n",
       "\\item 71\n",
       "\\item 74\n",
       "\\item 74\n",
       "\\item 58\n",
       "\\item 73\n",
       "\\end{enumerate*}\n"
      ],
      "text/markdown": [
       "1. 60\n",
       "2. 68\n",
       "3. 72\n",
       "4. 72\n",
       "5. 66\n",
       "6. 67\n",
       "7. 65\n",
       "8. 61\n",
       "9. 75\n",
       "10. 62\n",
       "11. 78\n",
       "12. 72\n",
       "13. 62\n",
       "14. 79\n",
       "15. 64\n",
       "16. 71\n",
       "17. 74\n",
       "18. 74\n",
       "19. 58\n",
       "20. 73\n",
       "\n",
       "\n"
      ],
      "text/plain": [
       " [1] 60 68 72 72 66 67 65 61 75 62 78 72 62 79 64 71 74 74 58 73"
      ]
     },
     "metadata": {},
     "output_type": "display_data"
    }
   ],
   "source": [
    "male\n",
    "female"
   ]
  },
  {
   "cell_type": "code",
   "execution_count": 11,
   "metadata": {
    "scrolled": true
   },
   "outputs": [
    {
     "data": {
      "image/png": "[encoded data removed]",
      "text/plain": [
       "Plot with title \"Histogram of male\""
      ]
     },
     "metadata": {},
     "output_type": "display_data"
    },
    {
     "data": {
      "image/png": "[encoded data removed]",
      "text/plain": [
       "Plot with title \"Histogram of female\""
      ]
     },
     "metadata": {},
     "output_type": "display_data"
    }
   ],
   "source": [
    "hist_male <- hist(male)\n",
    "hist_female <- hist(female)"
   ]
  },
  {
   "cell_type": "code",
   "execution_count": 14,
   "metadata": {},
   "outputs": [
    {
     "data": {
      "text/html": [
       "67.7333333333333"
      ],
      "text/latex": [
       "67.7333333333333"
      ],
      "text/markdown": [
       "67.7333333333333"
      ],
      "text/plain": [
       "[1] 67.73333"
      ]
     },
     "metadata": {},
     "output_type": "display_data"
    },
    {
     "data": {
      "text/html": [
       "68.65"
      ],
      "text/latex": [
       "68.65"
      ],
      "text/markdown": [
       "68.65"
      ],
      "text/plain": [
       "[1] 68.65"
      ]
     },
     "metadata": {},
     "output_type": "display_data"
    }
   ],
   "source": [
    "mean_male <- mean(male)\n",
    "mean_female <- mean(female)\n",
    "mean_male\n",
    "mean_female"
   ]
  },
  {
   "cell_type": "code",
   "execution_count": 16,
   "metadata": {},
   "outputs": [
    {
     "data": {
      "text/html": [
       "15.8721906736786"
      ],
      "text/latex": [
       "15.8721906736786"
      ],
      "text/markdown": [
       "15.8721906736786"
      ],
      "text/plain": [
       "[1] 15.87219"
      ]
     },
     "metadata": {},
     "output_type": "display_data"
    },
    {
     "data": {
      "text/html": [
       "6.200806399171"
      ],
      "text/latex": [
       "6.200806399171"
      ],
      "text/markdown": [
       "6.200806399171"
      ],
      "text/plain": [
       "[1] 6.200806"
      ]
     },
     "metadata": {},
     "output_type": "display_data"
    }
   ],
   "source": [
    "sd_male <- sd(male)\n",
    "sd_female <- sd(female)\n",
    "sd_male\n",
    "sd_female"
   ]
  },
  {
   "cell_type": "code",
   "execution_count": 18,
   "metadata": {},
   "outputs": [
    {
     "data": {
      "text/html": [
       "0.23433352372557"
      ],
      "text/latex": [
       "0.23433352372557"
      ],
      "text/markdown": [
       "0.23433352372557"
      ],
      "text/plain": [
       "[1] 0.2343335"
      ]
     },
     "metadata": {},
     "output_type": "display_data"
    },
    {
     "data": {
      "text/html": [
       "0.0903249293397086"
      ],
      "text/latex": [
       "0.0903249293397086"
      ],
      "text/markdown": [
       "0.0903249293397086"
      ],
      "text/plain": [
       "[1] 0.09032493"
      ]
     },
     "metadata": {},
     "output_type": "display_data"
    }
   ],
   "source": [
    "male.cv = sd_male / mean_male\n",
    "female.cv = sd_female / mean_female\n",
    "male.cv\n",
    "female.cv"
   ]
  },
  {
   "cell_type": "code",
   "execution_count": 34,
   "metadata": {},
   "outputs": [
    {
     "data": {
      "text/html": [
       "70.8"
      ],
      "text/latex": [
       "70.8"
      ],
      "text/markdown": [
       "70.8"
      ],
      "text/plain": [
       "[1] 70.8"
      ]
     },
     "metadata": {},
     "output_type": "display_data"
    }
   ],
   "source": [
    "test <- c(68, 70, 70, 71, 69, 74, 71, 72, 70, 73)\n",
    "mean(test)\n"
   ]
  },
  {
   "cell_type": "code",
   "execution_count": 37,
   "metadata": {},
   "outputs": [
    {
     "data": {
      "text/plain": [
       "\n",
       "\tOne Sample t-test\n",
       "\n",
       "data:  test\n",
       "t = 123.45, df = 9, p-value = 7.625e-16\n",
       "alternative hypothesis: true mean is not equal to 0\n",
       "99 percent confidence interval:\n",
       " 68.93626 72.66374\n",
       "sample estimates:\n",
       "mean of x \n",
       "     70.8 \n"
      ]
     },
     "metadata": {},
     "output_type": "display_data"
    }
   ],
   "source": [
    "t.test(test, conf.level = 0.99)\n"
   ]
  },
  {
   "cell_type": "code",
   "execution_count": 21,
   "metadata": {},
   "outputs": [],
   "source": [
    "?rnorm"
   ]
  },
  {
   "cell_type": "code",
   "execution_count": null,
   "metadata": {},
   "outputs": [],
   "source": [
    "rnorm(n)"
   ]
  }
 ],
 "metadata": {
  "kernelspec": {
   "display_name": "R",
   "language": "R",
   "name": "ir"
  },
  "language_info": {
   "codemirror_mode": "r",
   "file_extension": ".r",
   "mimetype": "text/x-r-source",
   "name": "R",
   "pygments_lexer": "r",
   "version": "3.6.1"
  }
 },
 "nbformat": 4,
 "nbformat_minor": 4
}
