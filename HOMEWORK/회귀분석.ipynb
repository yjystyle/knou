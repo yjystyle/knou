{
 "cells": [
  {
   "cell_type": "code",
   "execution_count": 13,
   "metadata": {},
   "outputs": [],
   "source": [
    "cost = read.table('maintenance_cost.csv', header=T, sep = ',')"
   ]
  },
  {
   "cell_type": "code",
   "execution_count": 14,
   "metadata": {
    "scrolled": true
   },
   "outputs": [
    {
     "data": {
      "image/png": "[encoded data removed]",
      "text/plain": [
       "plot without title"
      ]
     },
     "metadata": {},
     "output_type": "display_data"
    }
   ],
   "source": [
    "plot(cost$x, cost$y, xlab='사용연도', ylab='정비비용', pch=19)"
   ]
  },
  {
   "cell_type": "code",
   "execution_count": 15,
   "metadata": {
    "scrolled": true
   },
   "outputs": [
    {
     "data": {
      "text/plain": [
       "\n",
       "Call:\n",
       "lm(formula = y ~ x, data = cost)\n",
       "\n",
       "Residuals:\n",
       "    Min      1Q  Median      3Q     Max \n",
       "-33.204 -20.383  -4.748  13.957  61.433 \n",
       "\n",
       "Coefficients:\n",
       "            Estimate Std. Error t value Pr(>|t|)    \n",
       "(Intercept)   29.107     15.969   1.823 0.093341 .  \n",
       "x             13.637      3.149   4.330 0.000978 ***\n",
       "---\n",
       "Signif. codes:  0 '***' 0.001 '**' 0.01 '*' 0.05 '.' 0.1 ' ' 1\n",
       "\n",
       "Residual standard error: 29.11 on 12 degrees of freedom\n",
       "Multiple R-squared:  0.6098,\tAdjusted R-squared:  0.5773 \n",
       "F-statistic: 18.75 on 1 and 12 DF,  p-value: 0.0009779\n"
      ]
     },
     "metadata": {},
     "output_type": "display_data"
    }
   ],
   "source": [
    "cost.lm <- lm(y ~ x, data=cost)\n",
    "summary(cost.lm)"
   ]
  },
  {
   "cell_type": "code",
   "execution_count": 16,
   "metadata": {},
   "outputs": [
    {
     "data": {
      "text/html": [
       "<table>\n",
       "<thead><tr><th></th><th scope=col>Df</th><th scope=col>Sum Sq</th><th scope=col>Mean Sq</th><th scope=col>F value</th><th scope=col>Pr(&gt;F)</th></tr></thead>\n",
       "<tbody>\n",
       "\t<tr><th scope=row>x</th><td> 1          </td><td>15887.25    </td><td>15887.2492  </td><td>18.75293    </td><td>0.0009779056</td></tr>\n",
       "\t<tr><th scope=row>Residuals</th><td>12          </td><td>10166.25    </td><td>  847.1876  </td><td>      NA    </td><td>          NA</td></tr>\n",
       "</tbody>\n",
       "</table>\n"
      ],
      "text/latex": [
       "\\begin{tabular}{r|lllll}\n",
       "  & Df & Sum Sq & Mean Sq & F value & Pr(>F)\\\\\n",
       "\\hline\n",
       "\tx &  1           & 15887.25     & 15887.2492   & 18.75293     & 0.0009779056\\\\\n",
       "\tResiduals & 12           & 10166.25     &   847.1876   &       NA     &           NA\\\\\n",
       "\\end{tabular}\n"
      ],
      "text/markdown": [
       "\n",
       "| <!--/--> | Df | Sum Sq | Mean Sq | F value | Pr(>F) |\n",
       "|---|---|---|---|---|---|\n",
       "| x |  1           | 15887.25     | 15887.2492   | 18.75293     | 0.0009779056 |\n",
       "| Residuals | 12           | 10166.25     |   847.1876   |       NA     |           NA |\n",
       "\n"
      ],
      "text/plain": [
       "          Df Sum Sq   Mean Sq    F value  Pr(>F)      \n",
       "x          1 15887.25 15887.2492 18.75293 0.0009779056\n",
       "Residuals 12 10166.25   847.1876       NA           NA"
      ]
     },
     "metadata": {},
     "output_type": "display_data"
    }
   ],
   "source": [
    "anova(cost.lm)"
   ]
  },
  {
   "cell_type": "code",
   "execution_count": 17,
   "metadata": {},
   "outputs": [
    {
     "data": {
      "text/html": [
       "4.74722534672251"
      ],
      "text/latex": [
       "4.74722534672251"
      ],
      "text/markdown": [
       "4.74722534672251"
      ],
      "text/plain": [
       "[1] 4.747225"
      ]
     },
     "metadata": {},
     "output_type": "display_data"
    }
   ],
   "source": [
    "qf(0.95, 1, 12)"
   ]
  },
  {
   "cell_type": "code",
   "execution_count": 18,
   "metadata": {},
   "outputs": [
    {
     "data": {
      "text/html": [
       "<table>\n",
       "<thead><tr><th scope=col>x</th><th scope=col>y</th><th scope=col>cost.lm$resid</th><th scope=col>cost.lm$fitted</th></tr></thead>\n",
       "<tbody>\n",
       "\t<tr><td>3         </td><td> 39       </td><td>-31.018395</td><td> 70.01839 </td></tr>\n",
       "\t<tr><td>1         </td><td> 24       </td><td>-18.744147</td><td> 42.74415 </td></tr>\n",
       "\t<tr><td>5         </td><td>115       </td><td> 17.707358</td><td> 97.29264 </td></tr>\n",
       "\t<tr><td>8         </td><td>105       </td><td>-33.204013</td><td>138.20401 </td></tr>\n",
       "\t<tr><td>1         </td><td> 50       </td><td>  7.255853</td><td> 42.74415 </td></tr>\n",
       "\t<tr><td>4         </td><td> 86       </td><td>  2.344482</td><td> 83.65552 </td></tr>\n",
       "\t<tr><td>2         </td><td> 67       </td><td> 10.618729</td><td> 56.38127 </td></tr>\n",
       "\t<tr><td>6         </td><td> 90       </td><td>-20.929766</td><td>110.92977 </td></tr>\n",
       "\t<tr><td>9         </td><td>140       </td><td>-11.841137</td><td>151.84114 </td></tr>\n",
       "\t<tr><td>3         </td><td>112       </td><td> 41.981605</td><td> 70.01839 </td></tr>\n",
       "\t<tr><td>5         </td><td> 70       </td><td>-27.292642</td><td> 97.29264 </td></tr>\n",
       "\t<tr><td>7         </td><td>186       </td><td> 61.433110</td><td>124.56689 </td></tr>\n",
       "\t<tr><td>2         </td><td> 43       </td><td>-13.381271</td><td> 56.38127 </td></tr>\n",
       "\t<tr><td>6         </td><td>126       </td><td> 15.070234</td><td>110.92977 </td></tr>\n",
       "</tbody>\n",
       "</table>\n"
      ],
      "text/latex": [
       "\\begin{tabular}{r|llll}\n",
       " x & y & cost.lm\\$resid & cost.lm\\$fitted\\\\\n",
       "\\hline\n",
       "\t 3          &  39        & -31.018395 &  70.01839 \\\\\n",
       "\t 1          &  24        & -18.744147 &  42.74415 \\\\\n",
       "\t 5          & 115        &  17.707358 &  97.29264 \\\\\n",
       "\t 8          & 105        & -33.204013 & 138.20401 \\\\\n",
       "\t 1          &  50        &   7.255853 &  42.74415 \\\\\n",
       "\t 4          &  86        &   2.344482 &  83.65552 \\\\\n",
       "\t 2          &  67        &  10.618729 &  56.38127 \\\\\n",
       "\t 6          &  90        & -20.929766 & 110.92977 \\\\\n",
       "\t 9          & 140        & -11.841137 & 151.84114 \\\\\n",
       "\t 3          & 112        &  41.981605 &  70.01839 \\\\\n",
       "\t 5          &  70        & -27.292642 &  97.29264 \\\\\n",
       "\t 7          & 186        &  61.433110 & 124.56689 \\\\\n",
       "\t 2          &  43        & -13.381271 &  56.38127 \\\\\n",
       "\t 6          & 126        &  15.070234 & 110.92977 \\\\\n",
       "\\end{tabular}\n"
      ],
      "text/markdown": [
       "\n",
       "| x | y | cost.lm$resid | cost.lm$fitted |\n",
       "|---|---|---|---|\n",
       "| 3          |  39        | -31.018395 |  70.01839  |\n",
       "| 1          |  24        | -18.744147 |  42.74415  |\n",
       "| 5          | 115        |  17.707358 |  97.29264  |\n",
       "| 8          | 105        | -33.204013 | 138.20401  |\n",
       "| 1          |  50        |   7.255853 |  42.74415  |\n",
       "| 4          |  86        |   2.344482 |  83.65552  |\n",
       "| 2          |  67        |  10.618729 |  56.38127  |\n",
       "| 6          |  90        | -20.929766 | 110.92977  |\n",
       "| 9          | 140        | -11.841137 | 151.84114  |\n",
       "| 3          | 112        |  41.981605 |  70.01839  |\n",
       "| 5          |  70        | -27.292642 |  97.29264  |\n",
       "| 7          | 186        |  61.433110 | 124.56689  |\n",
       "| 2          |  43        | -13.381271 |  56.38127  |\n",
       "| 6          | 126        |  15.070234 | 110.92977  |\n",
       "\n"
      ],
      "text/plain": [
       "   x y   cost.lm$resid cost.lm$fitted\n",
       "1  3  39 -31.018395     70.01839     \n",
       "2  1  24 -18.744147     42.74415     \n",
       "3  5 115  17.707358     97.29264     \n",
       "4  8 105 -33.204013    138.20401     \n",
       "5  1  50   7.255853     42.74415     \n",
       "6  4  86   2.344482     83.65552     \n",
       "7  2  67  10.618729     56.38127     \n",
       "8  6  90 -20.929766    110.92977     \n",
       "9  9 140 -11.841137    151.84114     \n",
       "10 3 112  41.981605     70.01839     \n",
       "11 5  70 -27.292642     97.29264     \n",
       "12 7 186  61.433110    124.56689     \n",
       "13 2  43 -13.381271     56.38127     \n",
       "14 6 126  15.070234    110.92977     "
      ]
     },
     "metadata": {},
     "output_type": "display_data"
    }
   ],
   "source": [
    "cbind(cost, cost.lm$resid, cost.lm$fitted)"
   ]
  },
  {
   "cell_type": "code",
   "execution_count": 19,
   "metadata": {},
   "outputs": [
    {
     "data": {
      "text/html": [
       "<dl class=dl-horizontal>\n",
       "\t<dt>1</dt>\n",
       "\t\t<dd>-31.0183946488294</dd>\n",
       "\t<dt>2</dt>\n",
       "\t\t<dd>-18.7441471571906</dd>\n",
       "\t<dt>3</dt>\n",
       "\t\t<dd>17.7073578595318</dd>\n",
       "\t<dt>4</dt>\n",
       "\t\t<dd>-33.2040133779264</dd>\n",
       "\t<dt>5</dt>\n",
       "\t\t<dd>7.25585284280935</dd>\n",
       "\t<dt>6</dt>\n",
       "\t\t<dd>2.34448160535116</dd>\n",
       "\t<dt>7</dt>\n",
       "\t\t<dd>10.61872909699</dd>\n",
       "\t<dt>8</dt>\n",
       "\t\t<dd>-20.9297658862876</dd>\n",
       "\t<dt>9</dt>\n",
       "\t\t<dd>-11.8411371237458</dd>\n",
       "\t<dt>10</dt>\n",
       "\t\t<dd>41.9816053511706</dd>\n",
       "\t<dt>11</dt>\n",
       "\t\t<dd>-27.2926421404682</dd>\n",
       "\t<dt>12</dt>\n",
       "\t\t<dd>61.433110367893</dd>\n",
       "\t<dt>13</dt>\n",
       "\t\t<dd>-13.38127090301</dd>\n",
       "\t<dt>14</dt>\n",
       "\t\t<dd>15.0702341137124</dd>\n",
       "</dl>\n"
      ],
      "text/latex": [
       "\\begin{description*}\n",
       "\\item[1] -31.0183946488294\n",
       "\\item[2] -18.7441471571906\n",
       "\\item[3] 17.7073578595318\n",
       "\\item[4] -33.2040133779264\n",
       "\\item[5] 7.25585284280935\n",
       "\\item[6] 2.34448160535116\n",
       "\\item[7] 10.61872909699\n",
       "\\item[8] -20.9297658862876\n",
       "\\item[9] -11.8411371237458\n",
       "\\item[10] 41.9816053511706\n",
       "\\item[11] -27.2926421404682\n",
       "\\item[12] 61.433110367893\n",
       "\\item[13] -13.38127090301\n",
       "\\item[14] 15.0702341137124\n",
       "\\end{description*}\n"
      ],
      "text/markdown": [
       "1\n",
       ":   -31.01839464882942\n",
       ":   -18.74414715719063\n",
       ":   17.70735785953184\n",
       ":   -33.20401337792645\n",
       ":   7.255852842809356\n",
       ":   2.344481605351167\n",
       ":   10.618729096998\n",
       ":   -20.92976588628769\n",
       ":   -11.841137123745810\n",
       ":   41.981605351170611\n",
       ":   -27.292642140468212\n",
       ":   61.43311036789313\n",
       ":   -13.3812709030114\n",
       ":   15.0702341137124\n",
       "\n"
      ],
      "text/plain": [
       "         1          2          3          4          5          6          7 \n",
       "-31.018395 -18.744147  17.707358 -33.204013   7.255853   2.344482  10.618729 \n",
       "         8          9         10         11         12         13         14 \n",
       "-20.929766 -11.841137  41.981605 -27.292642  61.433110 -13.381271  15.070234 "
      ]
     },
     "metadata": {},
     "output_type": "display_data"
    }
   ],
   "source": [
    "cost.lm$resid"
   ]
  },
  {
   "cell_type": "code",
   "execution_count": 20,
   "metadata": {},
   "outputs": [
    {
     "data": {
      "text/html": [
       "-1.06581410364015e-14"
      ],
      "text/latex": [
       "-1.06581410364015e-14"
      ],
      "text/markdown": [
       "-1.06581410364015e-14"
      ],
      "text/plain": [
       "[1] -1.065814e-14"
      ]
     },
     "metadata": {},
     "output_type": "display_data"
    }
   ],
   "source": [
    "sum(cost.lm$resid)"
   ]
  },
  {
   "cell_type": "code",
   "execution_count": 22,
   "metadata": {},
   "outputs": [
    {
     "data": {
      "text/html": [
       "-2.04281036531029e-14"
      ],
      "text/latex": [
       "-2.04281036531029e-14"
      ],
      "text/markdown": [
       "-2.04281036531029e-14"
      ],
      "text/plain": [
       "[1] -2.04281e-14"
      ]
     },
     "metadata": {},
     "output_type": "display_data"
    }
   ],
   "source": [
    "sum(cost$x * cost.lm$resid)"
   ]
  },
  {
   "cell_type": "code",
   "execution_count": 24,
   "metadata": {},
   "outputs": [
    {
     "data": {
      "text/html": [
       "3.41060513164848e-13"
      ],
      "text/latex": [
       "3.41060513164848e-13"
      ],
      "text/markdown": [
       "3.41060513164848e-13"
      ],
      "text/plain": [
       "[1] 3.410605e-13"
      ]
     },
     "metadata": {},
     "output_type": "display_data"
    }
   ],
   "source": [
    "sum(cost.lm$fitted * cost.lm$resid)"
   ]
  },
  {
   "cell_type": "code",
   "execution_count": 26,
   "metadata": {},
   "outputs": [
    {
     "name": "stdout",
     "output_type": "stream",
     "text": [
      "package 'lm.beta' successfully unpacked and MD5 sums checked\n",
      "\n",
      "The downloaded binary packages are in\n",
      "\tC:\\Users\\junyeong\\AppData\\Local\\Temp\\RtmpodMepz\\downloaded_packages\n"
     ]
    }
   ],
   "source": [
    "install.packages('lm.beta')\n",
    "library(lm.beta)\n",
    "cost2.lm = lm(y ~ x, data=cost)\n",
    "cost2.beta = lm.beta(cost2.lm)"
   ]
  },
  {
   "cell_type": "code",
   "execution_count": 28,
   "metadata": {},
   "outputs": [
    {
     "data": {
      "text/plain": [
       "\n",
       "Call:\n",
       "lm(formula = y ~ x, data = cost)\n",
       "\n",
       "Residuals:\n",
       "    Min      1Q  Median      3Q     Max \n",
       "-33.204 -20.383  -4.748  13.957  61.433 \n",
       "\n",
       "Coefficients:\n",
       "            Estimate Standardized Std. Error t value Pr(>|t|)    \n",
       "(Intercept)  29.1070       0.0000    15.9689   1.823 0.093341 .  \n",
       "x            13.6371       0.7809     3.1491   4.330 0.000978 ***\n",
       "---\n",
       "Signif. codes:  0 '***' 0.001 '**' 0.01 '*' 0.05 '.' 0.1 ' ' 1\n",
       "\n",
       "Residual standard error: 29.11 on 12 degrees of freedom\n",
       "Multiple R-squared:  0.6098,\tAdjusted R-squared:  0.5773 \n",
       "F-statistic: 18.75 on 1 and 12 DF,  p-value: 0.0009779\n"
      ]
     },
     "metadata": {},
     "output_type": "display_data"
    }
   ],
   "source": [
    "summary(cost2.beta)"
   ]
  },
  {
   "cell_type": "code",
   "execution_count": 29,
   "metadata": {},
   "outputs": [
    {
     "data": {
      "text/html": [
       "3.17654893102243"
      ],
      "text/latex": [
       "3.17654893102243"
      ],
      "text/markdown": [
       "3.17654893102243"
      ],
      "text/plain": [
       "[1] 3.176549"
      ]
     },
     "metadata": {},
     "output_type": "display_data"
    }
   ],
   "source": [
    "qf(0.90, 1, 12)"
   ]
  },
  {
   "cell_type": "code",
   "execution_count": 32,
   "metadata": {},
   "outputs": [
    {
     "data": {
      "text/plain": [
       "\n",
       "\tOne Sample t-test\n",
       "\n",
       "data:  cost\n",
       "t = 3.8659, df = 27, p-value = 0.0006304\n",
       "alternative hypothesis: true mean is not equal to 8\n",
       "90 percent confidence interval:\n",
       " 29.79687 64.13170\n",
       "sample estimates:\n",
       "mean of x \n",
       " 46.96429 \n"
      ]
     },
     "metadata": {},
     "output_type": "display_data"
    }
   ],
   "source": [
    "t.test(cost, mu = 8, conf.level = 0.9)"
   ]
  },
  {
   "cell_type": "code",
   "execution_count": 34,
   "metadata": {},
   "outputs": [
    {
     "data": {
      "text/html": [
       "<table>\n",
       "<thead><tr><th scope=col>x1</th><th scope=col>x2</th><th scope=col>y</th></tr></thead>\n",
       "<tbody>\n",
       "\t<tr><td>195  </td><td>57   </td><td> 81.4</td></tr>\n",
       "\t<tr><td>179  </td><td>61   </td><td>122.0</td></tr>\n",
       "\t<tr><td>205  </td><td>60   </td><td>101.7</td></tr>\n",
       "\t<tr><td>204  </td><td>62   </td><td>175.6</td></tr>\n",
       "\t<tr><td>201  </td><td>61   </td><td>150.3</td></tr>\n",
       "\t<tr><td>184  </td><td>54   </td><td> 64.8</td></tr>\n",
       "\t<tr><td>210  </td><td>58   </td><td> 92.1</td></tr>\n",
       "\t<tr><td>209  </td><td>61   </td><td>113.8</td></tr>\n",
       "</tbody>\n",
       "</table>\n"
      ],
      "text/latex": [
       "\\begin{tabular}{r|lll}\n",
       " x1 & x2 & y\\\\\n",
       "\\hline\n",
       "\t 195   & 57    &  81.4\\\\\n",
       "\t 179   & 61    & 122.0\\\\\n",
       "\t 205   & 60    & 101.7\\\\\n",
       "\t 204   & 62    & 175.6\\\\\n",
       "\t 201   & 61    & 150.3\\\\\n",
       "\t 184   & 54    &  64.8\\\\\n",
       "\t 210   & 58    &  92.1\\\\\n",
       "\t 209   & 61    & 113.8\\\\\n",
       "\\end{tabular}\n"
      ],
      "text/markdown": [
       "\n",
       "| x1 | x2 | y |\n",
       "|---|---|---|\n",
       "| 195   | 57    |  81.4 |\n",
       "| 179   | 61    | 122.0 |\n",
       "| 205   | 60    | 101.7 |\n",
       "| 204   | 62    | 175.6 |\n",
       "| 201   | 61    | 150.3 |\n",
       "| 184   | 54    |  64.8 |\n",
       "| 210   | 58    |  92.1 |\n",
       "| 209   | 61    | 113.8 |\n",
       "\n"
      ],
      "text/plain": [
       "  x1  x2 y    \n",
       "1 195 57  81.4\n",
       "2 179 61 122.0\n",
       "3 205 60 101.7\n",
       "4 204 62 175.6\n",
       "5 201 61 150.3\n",
       "6 184 54  64.8\n",
       "7 210 58  92.1\n",
       "8 209 61 113.8"
      ]
     },
     "metadata": {},
     "output_type": "display_data"
    }
   ],
   "source": [
    "st = read.table('strength.csv', header=T, sep = ',')\n",
    "st"
   ]
  },
  {
   "cell_type": "code",
   "execution_count": 36,
   "metadata": {
    "scrolled": true
   },
   "outputs": [
    {
     "data": {
      "text/plain": [
       "\n",
       "Call:\n",
       "lm(formula = y ~ x1 + x2, data = st)\n",
       "\n",
       "Residuals:\n",
       "      1       2       3       4       5       6       7       8 \n",
       " -5.250 -14.817 -18.742  31.294  17.316  11.768  -3.781 -17.789 \n",
       "\n",
       "Coefficients:\n",
       "             Estimate Std. Error t value Pr(>|t|)  \n",
       "(Intercept) -554.5267   197.2264  -2.812   0.0375 *\n",
       "x1            -0.1743     0.7636  -0.228   0.8285  \n",
       "x2            11.8449     3.2342   3.662   0.0146 *\n",
       "---\n",
       "Signif. codes:  0 '***' 0.001 '**' 0.01 '*' 0.05 '.' 0.1 ' ' 1\n",
       "\n",
       "Residual standard error: 21.66 on 5 degrees of freedom\n",
       "Multiple R-squared:  0.747,\tAdjusted R-squared:  0.6459 \n",
       "F-statistic: 7.383 on 2 and 5 DF,  p-value: 0.03218\n"
      ]
     },
     "metadata": {},
     "output_type": "display_data"
    }
   ],
   "source": [
    "st = read.table('strength.csv', header=T, sep = ',')\n",
    "st_lm = lm(y~x1+x2, data=st)\n",
    "summary(st_lm)"
   ]
  },
  {
   "cell_type": "code",
   "execution_count": 37,
   "metadata": {},
   "outputs": [
    {
     "data": {
      "text/html": [
       "<table>\n",
       "<thead><tr><th></th><th scope=col>Df</th><th scope=col>Sum Sq</th><th scope=col>Mean Sq</th><th scope=col>F value</th><th scope=col>Pr(&gt;F)</th></tr></thead>\n",
       "<tbody>\n",
       "\t<tr><th scope=row>x1</th><td>1         </td><td> 634.8752 </td><td> 634.8752 </td><td> 1.352639 </td><td>0.29730076</td></tr>\n",
       "\t<tr><th scope=row>x2</th><td>1         </td><td>6295.6511 </td><td>6295.6511 </td><td>13.413253 </td><td>0.01455821</td></tr>\n",
       "\t<tr><th scope=row>Residuals</th><td>5         </td><td>2346.8024 </td><td> 469.3605 </td><td>       NA </td><td>        NA</td></tr>\n",
       "</tbody>\n",
       "</table>\n"
      ],
      "text/latex": [
       "\\begin{tabular}{r|lllll}\n",
       "  & Df & Sum Sq & Mean Sq & F value & Pr(>F)\\\\\n",
       "\\hline\n",
       "\tx1 & 1          &  634.8752  &  634.8752  &  1.352639  & 0.29730076\\\\\n",
       "\tx2 & 1          & 6295.6511  & 6295.6511  & 13.413253  & 0.01455821\\\\\n",
       "\tResiduals & 5          & 2346.8024  &  469.3605  &        NA  &         NA\\\\\n",
       "\\end{tabular}\n"
      ],
      "text/markdown": [
       "\n",
       "| <!--/--> | Df | Sum Sq | Mean Sq | F value | Pr(>F) |\n",
       "|---|---|---|---|---|---|\n",
       "| x1 | 1          |  634.8752  |  634.8752  |  1.352639  | 0.29730076 |\n",
       "| x2 | 1          | 6295.6511  | 6295.6511  | 13.413253  | 0.01455821 |\n",
       "| Residuals | 5          | 2346.8024  |  469.3605  |        NA  |         NA |\n",
       "\n"
      ],
      "text/plain": [
       "          Df Sum Sq    Mean Sq   F value   Pr(>F)    \n",
       "x1        1   634.8752  634.8752  1.352639 0.29730076\n",
       "x2        1  6295.6511 6295.6511 13.413253 0.01455821\n",
       "Residuals 5  2346.8024  469.3605        NA         NA"
      ]
     },
     "metadata": {},
     "output_type": "display_data"
    }
   ],
   "source": [
    "anova(st_lm)"
   ]
  },
  {
   "cell_type": "code",
   "execution_count": 39,
   "metadata": {},
   "outputs": [
    {
     "data": {
      "text/plain": [
       "\n",
       "Call:\n",
       "lm(formula = y ~ x1 + x2, data = st)\n",
       "\n",
       "Residuals:\n",
       "      1       2       3       4       5       6       7       8 \n",
       " -5.250 -14.817 -18.742  31.294  17.316  11.768  -3.781 -17.789 \n",
       "\n",
       "Coefficients:\n",
       "              Estimate Standardized Std. Error t value Pr(>|t|)  \n",
       "(Intercept) -554.52670      0.00000  197.22638  -2.812   0.0375 *\n",
       "x1            -0.17427     -0.05499    0.76359  -0.228   0.8285  \n",
       "x2            11.84488      0.88252    3.23418   3.662   0.0146 *\n",
       "---\n",
       "Signif. codes:  0 '***' 0.001 '**' 0.01 '*' 0.05 '.' 0.1 ' ' 1\n",
       "\n",
       "Residual standard error: 21.66 on 5 degrees of freedom\n",
       "Multiple R-squared:  0.747,\tAdjusted R-squared:  0.6459 \n",
       "F-statistic: 7.383 on 2 and 5 DF,  p-value: 0.03218\n"
      ]
     },
     "metadata": {},
     "output_type": "display_data"
    }
   ],
   "source": [
    "st2.lm = lm(y ~ x1+x2, data=st)\n",
    "st2.beta = lm.beta(st2.lm)\n",
    "summary(st2.beta)"
   ]
  },
  {
   "cell_type": "code",
   "execution_count": 42,
   "metadata": {},
   "outputs": [
    {
     "data": {
      "text/plain": [
       "\n",
       "Call:\n",
       "lm(formula = y ~ x1 + x2 + x3, data = water)\n",
       "\n",
       "Residuals:\n",
       "     Min       1Q   Median       3Q      Max \n",
       "-0.23490 -0.07744 -0.02166  0.08840  0.23442 \n",
       "\n",
       "Coefficients:\n",
       "             Estimate Std. Error t value Pr(>|t|)   \n",
       "(Intercept)  2.409213   1.125954   2.140  0.07618 . \n",
       "x1           0.069788   0.012640   5.521  0.00149 **\n",
       "x2          -0.024767   0.044830  -0.552  0.60060   \n",
       "x3           0.005864   0.005052   1.161  0.28978   \n",
       "---\n",
       "Signif. codes:  0 '***' 0.001 '**' 0.01 '*' 0.05 '.' 0.1 ' ' 1\n",
       "\n",
       "Residual standard error: 0.172 on 6 degrees of freedom\n",
       "Multiple R-squared:  0.9202,\tAdjusted R-squared:  0.8803 \n",
       "F-statistic: 23.05 on 3 and 6 DF,  p-value: 0.001079\n"
      ]
     },
     "metadata": {},
     "output_type": "display_data"
    }
   ],
   "source": [
    "water = read.table('water.csv', header=T, sep = ',')\n",
    "water_lm = lm(y~x1+x2+x3, data=water)\n",
    "summary(water_lm)"
   ]
  },
  {
   "cell_type": "code",
   "execution_count": 43,
   "metadata": {},
   "outputs": [
    {
     "data": {
      "text/html": [
       "<table>\n",
       "<thead><tr><th></th><th scope=col>Df</th><th scope=col>Sum Sq</th><th scope=col>Mean Sq</th><th scope=col>F value</th><th scope=col>Pr(&gt;F)</th></tr></thead>\n",
       "<tbody>\n",
       "\t<tr><th scope=row>x1</th><td>1           </td><td>2.004315887 </td><td>2.004315887 </td><td>67.73858599 </td><td>0.0001737553</td></tr>\n",
       "\t<tr><th scope=row>x2</th><td>1           </td><td>0.002273071 </td><td>0.002273071 </td><td> 0.07682153 </td><td>0.7909535228</td></tr>\n",
       "\t<tr><th scope=row>x3</th><td>1           </td><td>0.039877142 </td><td>0.039877142 </td><td> 1.34770234 </td><td>0.2897755827</td></tr>\n",
       "\t<tr><th scope=row>Residuals</th><td>6           </td><td>0.177533900 </td><td>0.029588983 </td><td>         NA </td><td>          NA</td></tr>\n",
       "</tbody>\n",
       "</table>\n"
      ],
      "text/latex": [
       "\\begin{tabular}{r|lllll}\n",
       "  & Df & Sum Sq & Mean Sq & F value & Pr(>F)\\\\\n",
       "\\hline\n",
       "\tx1 & 1            & 2.004315887  & 2.004315887  & 67.73858599  & 0.0001737553\\\\\n",
       "\tx2 & 1            & 0.002273071  & 0.002273071  &  0.07682153  & 0.7909535228\\\\\n",
       "\tx3 & 1            & 0.039877142  & 0.039877142  &  1.34770234  & 0.2897755827\\\\\n",
       "\tResiduals & 6            & 0.177533900  & 0.029588983  &          NA  &           NA\\\\\n",
       "\\end{tabular}\n"
      ],
      "text/markdown": [
       "\n",
       "| <!--/--> | Df | Sum Sq | Mean Sq | F value | Pr(>F) |\n",
       "|---|---|---|---|---|---|\n",
       "| x1 | 1            | 2.004315887  | 2.004315887  | 67.73858599  | 0.0001737553 |\n",
       "| x2 | 1            | 0.002273071  | 0.002273071  |  0.07682153  | 0.7909535228 |\n",
       "| x3 | 1            | 0.039877142  | 0.039877142  |  1.34770234  | 0.2897755827 |\n",
       "| Residuals | 6            | 0.177533900  | 0.029588983  |          NA  |           NA |\n",
       "\n"
      ],
      "text/plain": [
       "          Df Sum Sq      Mean Sq     F value     Pr(>F)      \n",
       "x1        1  2.004315887 2.004315887 67.73858599 0.0001737553\n",
       "x2        1  0.002273071 0.002273071  0.07682153 0.7909535228\n",
       "x3        1  0.039877142 0.039877142  1.34770234 0.2897755827\n",
       "Residuals 6  0.177533900 0.029588983          NA           NA"
      ]
     },
     "metadata": {},
     "output_type": "display_data"
    }
   ],
   "source": [
    "anova(water_lm)"
   ]
  },
  {
   "cell_type": "code",
   "execution_count": 45,
   "metadata": {},
   "outputs": [
    {
     "name": "stdout",
     "output_type": "stream",
     "text": [
      "Start:  AIC=54.51\n",
      "Y ~ 1\n",
      "\n",
      "       Df Sum of Sq     RSS    AIC\n",
      "+ X9    1    84.767  65.119 23.994\n",
      "+ X4    1    69.508  80.378 32.204\n",
      "+ X8    1    47.759 102.127 41.543\n",
      "+ X3    1    39.372 110.514 44.622\n",
      "+ X1    1    32.449 117.437 46.991\n",
      "+ X6    1    22.438 127.449 50.182\n",
      "+ X13   1    17.108 132.778 51.780\n",
      "<none>              149.886 54.506\n",
      "+ X11   1     6.460 143.426 54.788\n",
      "+ X12   1     3.911 145.975 55.475\n",
      "+ X10   1     0.163 149.723 56.464\n",
      "+ X2    1     0.122 149.764 56.474\n",
      "+ X7    1     0.092 149.794 56.482\n",
      "+ X5    1     0.005 149.881 56.505\n",
      "\n",
      "Step:  AIC=23.99\n",
      "Y ~ X9\n",
      "\n",
      "       Df Sum of Sq     RSS    AIC\n",
      "+ X1    1    12.981  52.139 17.323\n",
      "+ X3    1    10.053  55.066 19.454\n",
      "+ X4    1     7.943  57.176 20.920\n",
      "+ X8    1     7.160  57.959 21.451\n",
      "<none>               65.119 23.994\n",
      "+ X2    1     3.087  62.032 24.099\n",
      "+ X7    1     2.466  62.653 24.488\n",
      "+ X10   1     2.411  62.708 24.522\n",
      "+ X6    1     0.829  64.290 25.494\n",
      "+ X13   1     0.475  64.644 25.708\n",
      "+ X11   1     0.426  64.693 25.738\n",
      "+ X5    1     0.101  65.018 25.933\n",
      "+ X12   1     0.015  65.104 25.985\n",
      "- X9    1    84.767 149.886 54.506\n",
      "\n",
      "Step:  AIC=17.32\n",
      "Y ~ X9 + X1\n",
      "\n",
      "       Df Sum of Sq     RSS    AIC\n",
      "+ X4    1     7.292  44.847 13.448\n",
      "+ X8    1     3.470  48.668 16.637\n",
      "+ X6    1     3.265  48.873 16.801\n",
      "+ X3    1     2.983  49.155 17.025\n",
      "<none>               52.139 17.323\n",
      "+ X5    1     0.855  51.284 18.679\n",
      "+ X12   1     0.461  51.677 18.977\n",
      "+ X10   1     0.381  51.757 19.037\n",
      "+ X2    1     0.306  51.832 19.094\n",
      "+ X7    1     0.226  51.912 19.154\n",
      "+ X13   1     0.177  51.962 19.191\n",
      "+ X11   1     0.046  52.093 19.289\n",
      "- X1    1    12.981  65.119 23.994\n",
      "- X9    1    65.298 117.437 46.991\n",
      "\n",
      "Step:  AIC=13.45\n",
      "Y ~ X9 + X1 + X4\n",
      "\n",
      "       Df Sum of Sq    RSS    AIC\n",
      "+ X8    1    2.5132 42.333 13.198\n",
      "+ X3    1    2.4065 42.440 13.297\n",
      "<none>              44.847 13.448\n",
      "+ X11   1    1.4765 43.370 14.142\n",
      "+ X10   1    1.3017 43.545 14.299\n",
      "+ X12   1    1.2147 43.632 14.377\n",
      "+ X2    1    0.9331 43.913 14.628\n",
      "+ X7    1    0.8711 43.975 14.683\n",
      "+ X5    1    0.3879 44.459 15.109\n",
      "+ X6    1    0.0198 44.827 15.431\n",
      "+ X13   1    0.0035 44.843 15.445\n",
      "- X4    1    7.2920 52.139 17.323\n",
      "- X1    1   12.3296 57.176 20.920\n",
      "- X9    1   17.7442 62.591 24.449\n",
      "\n",
      "Step:  AIC=13.2\n",
      "Y ~ X9 + X1 + X4 + X8\n",
      "\n",
      "       Df Sum of Sq    RSS    AIC\n",
      "+ X12   1    4.1181 38.215 11.207\n",
      "<none>              42.333 13.198\n",
      "+ X11   1    1.8859 40.447 13.421\n",
      "- X8    1    2.5132 44.847 13.448\n",
      "+ X3    1    1.4051 40.928 13.882\n",
      "+ X13   1    0.6230 41.710 14.620\n",
      "+ X7    1    0.4833 41.850 14.751\n",
      "+ X5    1    0.3969 41.936 14.831\n",
      "+ X2    1    0.3231 42.010 14.900\n",
      "+ X10   1    0.2948 42.039 14.926\n",
      "+ X6    1    0.1400 42.193 15.069\n",
      "- X4    1    6.3349 48.668 16.637\n",
      "- X1    1    9.1881 51.521 18.859\n",
      "- X9    1   12.5355 54.869 21.314\n",
      "\n",
      "Step:  AIC=11.21\n",
      "Y ~ X9 + X1 + X4 + X8 + X12\n",
      "\n",
      "       Df Sum of Sq    RSS    AIC\n",
      "<none>              38.215 11.207\n",
      "+ X3    1    1.0562 37.159 12.114\n",
      "+ X6    1    0.4068 37.808 12.790\n",
      "+ X13   1    0.4051 37.810 12.792\n",
      "+ X10   1    0.1353 38.080 13.069\n",
      "+ X11   1    0.1098 38.105 13.095\n",
      "+ X5    1    0.0502 38.165 13.156\n",
      "- X12   1    4.1181 42.333 13.198\n",
      "+ X2    1    0.0080 38.207 13.199\n",
      "+ X7    1    0.0025 38.213 13.205\n",
      "- X9    1    5.2241 43.439 14.204\n",
      "- X8    1    5.4166 43.632 14.377\n",
      "- X4    1    7.4907 45.706 16.188\n",
      "- X1    1   10.5678 48.783 18.729\n"
     ]
    },
    {
     "data": {
      "text/plain": [
       "\n",
       "Call:\n",
       "lm(formula = Y ~ X9 + X1 + X4 + X8 + X12, data = start)\n",
       "\n",
       "Coefficients:\n",
       "(Intercept)           X9           X1           X4           X8          X12  \n",
       "    9.94408      0.06428     -0.07405     -0.10510      0.79736     -0.77443  \n"
      ]
     },
     "metadata": {},
     "output_type": "display_data"
    }
   ],
   "source": [
    "start <- read.table('p116.csv', header=T, sep = ',')\n",
    "start.lm <- lm(Y~1, data=start)\n",
    "full.lm <- lm(Y~ ., data=start)\n",
    "step(start.lm, scope=list(lower=start.lm, upper=full.lm), directoin=\"forward\")"
   ]
  },
  {
   "cell_type": "code",
   "execution_count": 46,
   "metadata": {},
   "outputs": [
    {
     "name": "stdout",
     "output_type": "stream",
     "text": [
      "Start:  AIC=24.76\n",
      "Y ~ X1 + X2 + X3 + X4 + X5 + X6 + X7 + X8 + X9 + X10 + X11 + \n",
      "    X12 + X13\n",
      "\n",
      "       Df Sum of Sq    RSS    AIC\n",
      "- X6    1    0.0109 35.905 22.775\n",
      "- X10   1    0.0127 35.906 22.777\n",
      "- X2    1    0.0203 35.914 22.785\n",
      "- X5    1    0.0719 35.966 22.841\n",
      "- X11   1    0.1420 36.036 22.917\n",
      "- X7    1    0.1973 36.091 22.977\n",
      "- X13   1    0.4530 36.347 23.252\n",
      "- X3    1    1.0941 36.988 23.934\n",
      "- X12   1    1.1976 37.091 24.043\n",
      "<none>              35.894 24.763\n",
      "- X8    1    2.6508 38.544 25.542\n",
      "- X4    1    3.2969 39.191 26.190\n",
      "- X9    1    3.5130 39.407 26.405\n",
      "- X1    1    5.4061 41.300 28.235\n",
      "\n",
      "Step:  AIC=22.77\n",
      "Y ~ X1 + X2 + X3 + X4 + X5 + X7 + X8 + X9 + X10 + X11 + X12 + \n",
      "    X13\n",
      "\n",
      "       Df Sum of Sq    RSS    AIC\n",
      "- X10   1    0.0123 35.917 20.788\n",
      "- X2    1    0.0160 35.921 20.792\n",
      "- X11   1    0.1578 36.062 20.946\n",
      "- X5    1    0.1755 36.080 20.965\n",
      "- X7    1    0.1989 36.103 20.990\n",
      "- X13   1    0.4848 36.389 21.298\n",
      "- X3    1    1.3528 37.257 22.217\n",
      "- X12   1    1.4020 37.307 22.269\n",
      "<none>              35.905 22.775\n",
      "- X8    1    3.0823 38.987 23.987\n",
      "- X9    1    5.1901 41.095 26.040\n",
      "- X1    1    5.6461 41.551 26.471\n",
      "- X4    1    7.6597 43.564 28.316\n",
      "\n",
      "Step:  AIC=20.79\n",
      "Y ~ X1 + X2 + X3 + X4 + X5 + X7 + X8 + X9 + X11 + X12 + X13\n",
      "\n",
      "       Df Sum of Sq    RSS    AIC\n",
      "- X2    1    0.0068 35.924 18.796\n",
      "- X11   1    0.1741 36.091 18.977\n",
      "- X5    1    0.1856 36.102 18.989\n",
      "- X7    1    0.2200 36.137 19.026\n",
      "- X13   1    0.4973 36.414 19.324\n",
      "- X12   1    1.3897 37.307 20.269\n",
      "- X3    1    1.4436 37.360 20.325\n",
      "<none>              35.917 20.788\n",
      "- X8    1    3.3097 39.227 22.226\n",
      "- X9    1    5.2062 41.123 24.067\n",
      "- X1    1    5.6613 41.578 24.497\n",
      "- X4    1    7.6961 43.613 26.360\n",
      "\n",
      "Step:  AIC=18.8\n",
      "Y ~ X1 + X3 + X4 + X5 + X7 + X8 + X9 + X11 + X12 + X13\n",
      "\n",
      "       Df Sum of Sq    RSS    AIC\n",
      "- X11   1    0.1755 36.099 16.986\n",
      "- X5    1    0.1832 36.107 16.994\n",
      "- X7    1    0.4396 36.363 17.270\n",
      "- X13   1    0.5000 36.424 17.335\n",
      "- X3    1    1.4372 37.361 18.325\n",
      "- X12   1    1.5503 37.474 18.443\n",
      "<none>              35.924 18.796\n",
      "- X8    1    3.3734 39.297 20.296\n",
      "- X9    1    5.2294 41.153 22.096\n",
      "- X1    1    5.6571 41.581 22.499\n",
      "- X4    1    7.7285 43.652 24.395\n",
      "\n",
      "Step:  AIC=16.99\n",
      "Y ~ X1 + X3 + X4 + X5 + X7 + X8 + X9 + X12 + X13\n",
      "\n",
      "       Df Sum of Sq    RSS    AIC\n",
      "- X5    1    0.1860 36.285 15.186\n",
      "- X7    1    0.2754 36.375 15.282\n",
      "- X13   1    0.9744 37.074 16.024\n",
      "- X3    1    1.3763 37.476 16.445\n",
      "<none>              36.099 16.986\n",
      "- X8    1    3.2337 39.333 18.331\n",
      "- X12   1    3.5259 39.625 18.620\n",
      "- X9    1    5.1980 41.297 20.232\n",
      "- X1    1    5.6122 41.711 20.621\n",
      "- X4    1    7.6380 43.737 22.471\n",
      "\n",
      "Step:  AIC=15.19\n",
      "Y ~ X1 + X3 + X4 + X7 + X8 + X9 + X12 + X13\n",
      "\n",
      "       Df Sum of Sq    RSS    AIC\n",
      "- X7    1    0.2611 36.546 13.466\n",
      "- X13   1    0.8738 37.159 14.114\n",
      "- X3    1    1.2995 37.585 14.558\n",
      "<none>              36.285 15.186\n",
      "- X8    1    3.4668 39.752 16.745\n",
      "- X12   1    3.5885 39.874 16.864\n",
      "- X9    1    5.0490 41.334 18.267\n",
      "- X1    1    5.4363 41.722 18.631\n",
      "- X4    1    7.9013 44.187 20.869\n",
      "\n",
      "Step:  AIC=13.47\n",
      "Y ~ X1 + X3 + X4 + X8 + X9 + X12 + X13\n",
      "\n",
      "       Df Sum of Sq    RSS    AIC\n",
      "- X13   1    0.6127 37.159 12.114\n",
      "- X3    1    1.2638 37.810 12.792\n",
      "<none>              36.546 13.466\n",
      "- X8    1    3.2074 39.754 14.746\n",
      "- X12   1    4.0057 40.552 15.522\n",
      "- X1    1    5.1775 41.724 16.633\n",
      "- X9    1    5.5731 42.119 17.001\n",
      "- X4    1    7.7925 44.339 19.004\n",
      "\n",
      "Step:  AIC=12.11\n",
      "Y ~ X1 + X3 + X4 + X8 + X9 + X12\n",
      "\n",
      "       Df Sum of Sq    RSS    AIC\n",
      "- X3    1    1.0562 38.215 11.207\n",
      "<none>              37.159 12.114\n",
      "- X12   1    3.7692 40.928 13.882\n",
      "- X8    1    3.9001 41.059 14.007\n",
      "- X9    1    4.9675 42.127 15.008\n",
      "- X1    1    6.4378 43.597 16.346\n",
      "- X4    1    7.1968 44.356 17.019\n",
      "\n",
      "Step:  AIC=11.21\n",
      "Y ~ X1 + X4 + X8 + X9 + X12\n",
      "\n",
      "       Df Sum of Sq    RSS    AIC\n",
      "<none>              38.215 11.207\n",
      "- X12   1    4.1181 42.333 13.198\n",
      "- X9    1    5.2241 43.439 14.204\n",
      "- X8    1    5.4166 43.632 14.377\n",
      "- X4    1    7.4907 45.706 16.188\n",
      "- X1    1   10.5678 48.783 18.729\n"
     ]
    },
    {
     "data": {
      "text/plain": [
       "\n",
       "Call:\n",
       "lm(formula = Y ~ X1 + X4 + X8 + X9 + X12, data = start)\n",
       "\n",
       "Coefficients:\n",
       "(Intercept)           X1           X4           X8           X9          X12  \n",
       "    9.94408     -0.07405     -0.10510      0.79736      0.06428     -0.77443  \n"
      ]
     },
     "metadata": {},
     "output_type": "display_data"
    }
   ],
   "source": [
    "step(full.lm, data=start, direction=\"backward\")"
   ]
  },
  {
   "cell_type": "code",
   "execution_count": 47,
   "metadata": {},
   "outputs": [
    {
     "name": "stdout",
     "output_type": "stream",
     "text": [
      "Start:  AIC=54.51\n",
      "Y ~ 1\n",
      "\n",
      "       Df Sum of Sq     RSS    AIC\n",
      "+ X9    1    84.767  65.119 23.994\n",
      "+ X4    1    69.508  80.378 32.204\n",
      "+ X8    1    47.759 102.127 41.543\n",
      "+ X3    1    39.372 110.514 44.622\n",
      "+ X1    1    32.449 117.437 46.991\n",
      "+ X6    1    22.438 127.449 50.182\n",
      "+ X13   1    17.108 132.778 51.780\n",
      "<none>              149.886 54.506\n",
      "+ X11   1     6.460 143.426 54.788\n",
      "+ X12   1     3.911 145.975 55.475\n",
      "+ X10   1     0.163 149.723 56.464\n",
      "+ X2    1     0.122 149.764 56.474\n",
      "+ X7    1     0.092 149.794 56.482\n",
      "+ X5    1     0.005 149.881 56.505\n",
      "\n",
      "Step:  AIC=23.99\n",
      "Y ~ X9\n",
      "\n",
      "       Df Sum of Sq     RSS    AIC\n",
      "+ X1    1    12.981  52.139 17.323\n",
      "+ X3    1    10.053  55.066 19.454\n",
      "+ X4    1     7.943  57.176 20.920\n",
      "+ X8    1     7.160  57.959 21.451\n",
      "<none>               65.119 23.994\n",
      "+ X2    1     3.087  62.032 24.099\n",
      "+ X7    1     2.466  62.653 24.488\n",
      "+ X10   1     2.411  62.708 24.522\n",
      "+ X6    1     0.829  64.290 25.494\n",
      "+ X13   1     0.475  64.644 25.708\n",
      "+ X11   1     0.426  64.693 25.738\n",
      "+ X5    1     0.101  65.018 25.933\n",
      "+ X12   1     0.015  65.104 25.985\n",
      "- X9    1    84.767 149.886 54.506\n",
      "\n",
      "Step:  AIC=17.32\n",
      "Y ~ X9 + X1\n",
      "\n",
      "       Df Sum of Sq     RSS    AIC\n",
      "+ X4    1     7.292  44.847 13.448\n",
      "+ X8    1     3.470  48.668 16.637\n",
      "+ X6    1     3.265  48.873 16.801\n",
      "+ X3    1     2.983  49.155 17.025\n",
      "<none>               52.139 17.323\n",
      "+ X5    1     0.855  51.284 18.679\n",
      "+ X12   1     0.461  51.677 18.977\n",
      "+ X10   1     0.381  51.757 19.037\n",
      "+ X2    1     0.306  51.832 19.094\n",
      "+ X7    1     0.226  51.912 19.154\n",
      "+ X13   1     0.177  51.962 19.191\n",
      "+ X11   1     0.046  52.093 19.289\n",
      "- X1    1    12.981  65.119 23.994\n",
      "- X9    1    65.298 117.437 46.991\n",
      "\n",
      "Step:  AIC=13.45\n",
      "Y ~ X9 + X1 + X4\n",
      "\n",
      "       Df Sum of Sq    RSS    AIC\n",
      "+ X8    1    2.5132 42.333 13.198\n",
      "+ X3    1    2.4065 42.440 13.297\n",
      "<none>              44.847 13.448\n",
      "+ X11   1    1.4765 43.370 14.142\n",
      "+ X10   1    1.3017 43.545 14.299\n",
      "+ X12   1    1.2147 43.632 14.377\n",
      "+ X2    1    0.9331 43.913 14.628\n",
      "+ X7    1    0.8711 43.975 14.683\n",
      "+ X5    1    0.3879 44.459 15.109\n",
      "+ X6    1    0.0198 44.827 15.431\n",
      "+ X13   1    0.0035 44.843 15.445\n",
      "- X4    1    7.2920 52.139 17.323\n",
      "- X1    1   12.3296 57.176 20.920\n",
      "- X9    1   17.7442 62.591 24.449\n",
      "\n",
      "Step:  AIC=13.2\n",
      "Y ~ X9 + X1 + X4 + X8\n",
      "\n",
      "       Df Sum of Sq    RSS    AIC\n",
      "+ X12   1    4.1181 38.215 11.207\n",
      "<none>              42.333 13.198\n",
      "+ X11   1    1.8859 40.447 13.421\n",
      "- X8    1    2.5132 44.847 13.448\n",
      "+ X3    1    1.4051 40.928 13.882\n",
      "+ X13   1    0.6230 41.710 14.620\n",
      "+ X7    1    0.4833 41.850 14.751\n",
      "+ X5    1    0.3969 41.936 14.831\n",
      "+ X2    1    0.3231 42.010 14.900\n",
      "+ X10   1    0.2948 42.039 14.926\n",
      "+ X6    1    0.1400 42.193 15.069\n",
      "- X4    1    6.3349 48.668 16.637\n",
      "- X1    1    9.1881 51.521 18.859\n",
      "- X9    1   12.5355 54.869 21.314\n",
      "\n",
      "Step:  AIC=11.21\n",
      "Y ~ X9 + X1 + X4 + X8 + X12\n",
      "\n",
      "       Df Sum of Sq    RSS    AIC\n",
      "<none>              38.215 11.207\n",
      "+ X3    1    1.0562 37.159 12.114\n",
      "+ X6    1    0.4068 37.808 12.790\n",
      "+ X13   1    0.4051 37.810 12.792\n",
      "+ X10   1    0.1353 38.080 13.069\n",
      "+ X11   1    0.1098 38.105 13.095\n",
      "+ X5    1    0.0502 38.165 13.156\n",
      "- X12   1    4.1181 42.333 13.198\n",
      "+ X2    1    0.0080 38.207 13.199\n",
      "+ X7    1    0.0025 38.213 13.205\n",
      "- X9    1    5.2241 43.439 14.204\n",
      "- X8    1    5.4166 43.632 14.377\n",
      "- X4    1    7.4907 45.706 16.188\n",
      "- X1    1   10.5678 48.783 18.729\n"
     ]
    },
    {
     "data": {
      "text/plain": [
       "\n",
       "Call:\n",
       "lm(formula = Y ~ X9 + X1 + X4 + X8 + X12, data = start)\n",
       "\n",
       "Coefficients:\n",
       "(Intercept)           X9           X1           X4           X8          X12  \n",
       "    9.94408      0.06428     -0.07405     -0.10510      0.79736     -0.77443  \n"
      ]
     },
     "metadata": {},
     "output_type": "display_data"
    }
   ],
   "source": [
    "step(start.lm, scope=list(upper=full.lm), data=start, direction=\"both\")"
   ]
  },
  {
   "cell_type": "code",
   "execution_count": 50,
   "metadata": {},
   "outputs": [
    {
     "name": "stderr",
     "output_type": "stream",
     "text": [
      "Warning message:\n",
      "\"package 'leaps' is in use and will not be installed\""
     ]
    },
    {
     "data": {
      "text/plain": [
       "Subset selection object\n",
       "Call: regsubsets.formula(Y ~ ., data = start)\n",
       "13 Variables  (and intercept)\n",
       "    Forced in Forced out\n",
       "X1      FALSE      FALSE\n",
       "X2      FALSE      FALSE\n",
       "X3      FALSE      FALSE\n",
       "X4      FALSE      FALSE\n",
       "X5      FALSE      FALSE\n",
       "X6      FALSE      FALSE\n",
       "X7      FALSE      FALSE\n",
       "X8      FALSE      FALSE\n",
       "X9      FALSE      FALSE\n",
       "X10     FALSE      FALSE\n",
       "X11     FALSE      FALSE\n",
       "X12     FALSE      FALSE\n",
       "X13     FALSE      FALSE\n",
       "1 subsets of each size up to 8\n",
       "Selection Algorithm: exhaustive\n",
       "         X1  X2  X3  X4  X5  X6  X7  X8  X9  X10 X11 X12 X13\n",
       "1  ( 1 ) \" \" \" \" \" \" \" \" \" \" \" \" \" \" \" \" \"*\" \" \" \" \" \" \" \" \"\n",
       "2  ( 1 ) \"*\" \" \" \" \" \" \" \" \" \" \" \" \" \" \" \"*\" \" \" \" \" \" \" \" \"\n",
       "3  ( 1 ) \"*\" \" \" \" \" \"*\" \" \" \" \" \" \" \" \" \"*\" \" \" \" \" \" \" \" \"\n",
       "4  ( 1 ) \"*\" \" \" \" \" \"*\" \" \" \" \" \" \" \"*\" \"*\" \" \" \" \" \" \" \" \"\n",
       "5  ( 1 ) \"*\" \" \" \" \" \"*\" \" \" \" \" \" \" \"*\" \"*\" \" \" \" \" \"*\" \" \"\n",
       "6  ( 1 ) \"*\" \" \" \"*\" \"*\" \" \" \" \" \" \" \"*\" \"*\" \" \" \" \" \"*\" \" \"\n",
       "7  ( 1 ) \"*\" \" \" \"*\" \"*\" \" \" \" \" \" \" \"*\" \"*\" \" \" \" \" \"*\" \"*\"\n",
       "8  ( 1 ) \"*\" \" \" \"*\" \"*\" \" \" \" \" \"*\" \"*\" \"*\" \" \" \" \" \"*\" \"*\""
      ]
     },
     "metadata": {},
     "output_type": "display_data"
    }
   ],
   "source": [
    "install.packages('leaps')\n",
    "library(leaps)\n",
    "all.lm=regsubsets(Y~., data=start)\n",
    "(rs=summary(all.lm))"
   ]
  },
  {
   "cell_type": "code",
   "execution_count": 51,
   "metadata": {},
   "outputs": [
    {
     "data": {
      "text/html": [
       "<ol class=list-inline>\n",
       "\t<li>'which'</li>\n",
       "\t<li>'rsq'</li>\n",
       "\t<li>'rss'</li>\n",
       "\t<li>'adjr2'</li>\n",
       "\t<li>'cp'</li>\n",
       "\t<li>'bic'</li>\n",
       "\t<li>'outmat'</li>\n",
       "\t<li>'obj'</li>\n",
       "</ol>\n"
      ],
      "text/latex": [
       "\\begin{enumerate*}\n",
       "\\item 'which'\n",
       "\\item 'rsq'\n",
       "\\item 'rss'\n",
       "\\item 'adjr2'\n",
       "\\item 'cp'\n",
       "\\item 'bic'\n",
       "\\item 'outmat'\n",
       "\\item 'obj'\n",
       "\\end{enumerate*}\n"
      ],
      "text/markdown": [
       "1. 'which'\n",
       "2. 'rsq'\n",
       "3. 'rss'\n",
       "4. 'adjr2'\n",
       "5. 'cp'\n",
       "6. 'bic'\n",
       "7. 'outmat'\n",
       "8. 'obj'\n",
       "\n",
       "\n"
      ],
      "text/plain": [
       "[1] \"which\"  \"rsq\"    \"rss\"    \"adjr2\"  \"cp\"     \"bic\"    \"outmat\" \"obj\"   "
      ]
     },
     "metadata": {},
     "output_type": "display_data"
    }
   ],
   "source": [
    "names(rs)"
   ]
  },
  {
   "cell_type": "code",
   "execution_count": 52,
   "metadata": {},
   "outputs": [
    {
     "data": {
      "text/html": [
       "<ol class=list-inline>\n",
       "\t<li>0.565542308846328</li>\n",
       "\t<li>0.652145312560691</li>\n",
       "\t<li>0.700795746330074</li>\n",
       "\t<li>0.717563293537254</li>\n",
       "\t<li>0.745038040789385</li>\n",
       "\t<li>0.752084505119921</li>\n",
       "\t<li>0.756172593913266</li>\n",
       "\t<li>0.757914478686012</li>\n",
       "</ol>\n"
      ],
      "text/latex": [
       "\\begin{enumerate*}\n",
       "\\item 0.565542308846328\n",
       "\\item 0.652145312560691\n",
       "\\item 0.700795746330074\n",
       "\\item 0.717563293537254\n",
       "\\item 0.745038040789385\n",
       "\\item 0.752084505119921\n",
       "\\item 0.756172593913266\n",
       "\\item 0.757914478686012\n",
       "\\end{enumerate*}\n"
      ],
      "text/markdown": [
       "1. 0.565542308846328\n",
       "2. 0.652145312560691\n",
       "3. 0.700795746330074\n",
       "4. 0.717563293537254\n",
       "5. 0.745038040789385\n",
       "6. 0.752084505119921\n",
       "7. 0.756172593913266\n",
       "8. 0.757914478686012\n",
       "\n",
       "\n"
      ],
      "text/plain": [
       "[1] 0.5655423 0.6521453 0.7007957 0.7175633 0.7450380 0.7520845 0.7561726\n",
       "[8] 0.7579145"
      ]
     },
     "metadata": {},
     "output_type": "display_data"
    }
   ],
   "source": [
    "rs$rsq"
   ]
  },
  {
   "cell_type": "code",
   "execution_count": 53,
   "metadata": {},
   "outputs": [
    {
     "data": {
      "text/html": [
       "<ol class=list-inline>\n",
       "\t<li>0.553800209085418</li>\n",
       "\t<li>0.632820052147396</li>\n",
       "\t<li>0.67514966744408</li>\n",
       "\t<li>0.684335445718108</li>\n",
       "\t<li>0.706407440908989</li>\n",
       "\t<li>0.705600349829906</li>\n",
       "\t<li>0.701114792538842</li>\n",
       "\t<li>0.693358339668949</li>\n",
       "</ol>\n"
      ],
      "text/latex": [
       "\\begin{enumerate*}\n",
       "\\item 0.553800209085418\n",
       "\\item 0.632820052147396\n",
       "\\item 0.67514966744408\n",
       "\\item 0.684335445718108\n",
       "\\item 0.706407440908989\n",
       "\\item 0.705600349829906\n",
       "\\item 0.701114792538842\n",
       "\\item 0.693358339668949\n",
       "\\end{enumerate*}\n"
      ],
      "text/markdown": [
       "1. 0.553800209085418\n",
       "2. 0.632820052147396\n",
       "3. 0.67514966744408\n",
       "4. 0.684335445718108\n",
       "5. 0.706407440908989\n",
       "6. 0.705600349829906\n",
       "7. 0.701114792538842\n",
       "8. 0.693358339668949\n",
       "\n",
       "\n"
      ],
      "text/plain": [
       "[1] 0.5538002 0.6328201 0.6751497 0.6843354 0.7064074 0.7056003 0.7011148\n",
       "[8] 0.6933583"
      ]
     },
     "metadata": {},
     "output_type": "display_data"
    }
   ],
   "source": [
    "rs$adjr2"
   ]
  },
  {
   "cell_type": "code",
   "execution_count": 54,
   "metadata": {},
   "outputs": [
    {
     "data": {
      "text/html": [
       "<ol class=list-inline>\n",
       "\t<li>10.3556012839803</li>\n",
       "\t<li>3.31460284743893</li>\n",
       "\t<li>0.235697073029819</li>\n",
       "\t<li>0.485233906824309</li>\n",
       "\t<li>-0.383017034796129</li>\n",
       "\t<li>0.881360986021281</li>\n",
       "\t<li>2.4545812808856</li>\n",
       "\t<li>4.2727356539259</li>\n",
       "</ol>\n"
      ],
      "text/latex": [
       "\\begin{enumerate*}\n",
       "\\item 10.3556012839803\n",
       "\\item 3.31460284743893\n",
       "\\item 0.235697073029819\n",
       "\\item 0.485233906824309\n",
       "\\item -0.383017034796129\n",
       "\\item 0.881360986021281\n",
       "\\item 2.4545812808856\n",
       "\\item 4.2727356539259\n",
       "\\end{enumerate*}\n"
      ],
      "text/markdown": [
       "1. 10.3556012839803\n",
       "2. 3.31460284743893\n",
       "3. 0.235697073029819\n",
       "4. 0.485233906824309\n",
       "5. -0.383017034796129\n",
       "6. 0.881360986021281\n",
       "7. 2.4545812808856\n",
       "8. 4.2727356539259\n",
       "\n",
       "\n"
      ],
      "text/plain": [
       "[1] 10.3556013  3.3146028  0.2356971  0.4852339 -0.3830170  0.8813610  2.4545813\n",
       "[8]  4.2727357"
      ]
     },
     "metadata": {},
     "output_type": "display_data"
    }
   ],
   "source": [
    "rs$cp"
   ]
  },
  {
   "cell_type": "code",
   "execution_count": 55,
   "metadata": {},
   "outputs": [
    {
     "data": {
      "text/html": [
       "<table>\n",
       "<thead><tr><th scope=col>(Intercept)</th><th scope=col>X1</th><th scope=col>X2</th><th scope=col>X3</th><th scope=col>X4</th><th scope=col>X5</th><th scope=col>X6</th><th scope=col>X7</th><th scope=col>X8</th><th scope=col>X9</th><th scope=col>X10</th><th scope=col>X11</th><th scope=col>X12</th><th scope=col>X13</th></tr></thead>\n",
       "<tbody>\n",
       "\t<tr><td>TRUE </td><td>FALSE</td><td>FALSE</td><td>FALSE</td><td>FALSE</td><td>FALSE</td><td>FALSE</td><td>FALSE</td><td>FALSE</td><td>TRUE </td><td>FALSE</td><td>FALSE</td><td>FALSE</td><td>FALSE</td></tr>\n",
       "\t<tr><td>TRUE </td><td> TRUE</td><td>FALSE</td><td>FALSE</td><td>FALSE</td><td>FALSE</td><td>FALSE</td><td>FALSE</td><td>FALSE</td><td>TRUE </td><td>FALSE</td><td>FALSE</td><td>FALSE</td><td>FALSE</td></tr>\n",
       "\t<tr><td>TRUE </td><td> TRUE</td><td>FALSE</td><td>FALSE</td><td> TRUE</td><td>FALSE</td><td>FALSE</td><td>FALSE</td><td>FALSE</td><td>TRUE </td><td>FALSE</td><td>FALSE</td><td>FALSE</td><td>FALSE</td></tr>\n",
       "\t<tr><td>TRUE </td><td> TRUE</td><td>FALSE</td><td>FALSE</td><td> TRUE</td><td>FALSE</td><td>FALSE</td><td>FALSE</td><td> TRUE</td><td>TRUE </td><td>FALSE</td><td>FALSE</td><td>FALSE</td><td>FALSE</td></tr>\n",
       "\t<tr><td>TRUE </td><td> TRUE</td><td>FALSE</td><td>FALSE</td><td> TRUE</td><td>FALSE</td><td>FALSE</td><td>FALSE</td><td> TRUE</td><td>TRUE </td><td>FALSE</td><td>FALSE</td><td> TRUE</td><td>FALSE</td></tr>\n",
       "\t<tr><td>TRUE </td><td> TRUE</td><td>FALSE</td><td> TRUE</td><td> TRUE</td><td>FALSE</td><td>FALSE</td><td>FALSE</td><td> TRUE</td><td>TRUE </td><td>FALSE</td><td>FALSE</td><td> TRUE</td><td>FALSE</td></tr>\n",
       "\t<tr><td>TRUE </td><td> TRUE</td><td>FALSE</td><td> TRUE</td><td> TRUE</td><td>FALSE</td><td>FALSE</td><td>FALSE</td><td> TRUE</td><td>TRUE </td><td>FALSE</td><td>FALSE</td><td> TRUE</td><td> TRUE</td></tr>\n",
       "\t<tr><td>TRUE </td><td> TRUE</td><td>FALSE</td><td> TRUE</td><td> TRUE</td><td>FALSE</td><td>FALSE</td><td> TRUE</td><td> TRUE</td><td>TRUE </td><td>FALSE</td><td>FALSE</td><td> TRUE</td><td> TRUE</td></tr>\n",
       "</tbody>\n",
       "</table>\n"
      ],
      "text/latex": [
       "\\begin{tabular}{r|llllllllllllll}\n",
       " (Intercept) & X1 & X2 & X3 & X4 & X5 & X6 & X7 & X8 & X9 & X10 & X11 & X12 & X13\\\\\n",
       "\\hline\n",
       "\t TRUE  & FALSE & FALSE & FALSE & FALSE & FALSE & FALSE & FALSE & FALSE & TRUE  & FALSE & FALSE & FALSE & FALSE\\\\\n",
       "\t TRUE  &  TRUE & FALSE & FALSE & FALSE & FALSE & FALSE & FALSE & FALSE & TRUE  & FALSE & FALSE & FALSE & FALSE\\\\\n",
       "\t TRUE  &  TRUE & FALSE & FALSE &  TRUE & FALSE & FALSE & FALSE & FALSE & TRUE  & FALSE & FALSE & FALSE & FALSE\\\\\n",
       "\t TRUE  &  TRUE & FALSE & FALSE &  TRUE & FALSE & FALSE & FALSE &  TRUE & TRUE  & FALSE & FALSE & FALSE & FALSE\\\\\n",
       "\t TRUE  &  TRUE & FALSE & FALSE &  TRUE & FALSE & FALSE & FALSE &  TRUE & TRUE  & FALSE & FALSE &  TRUE & FALSE\\\\\n",
       "\t TRUE  &  TRUE & FALSE &  TRUE &  TRUE & FALSE & FALSE & FALSE &  TRUE & TRUE  & FALSE & FALSE &  TRUE & FALSE\\\\\n",
       "\t TRUE  &  TRUE & FALSE &  TRUE &  TRUE & FALSE & FALSE & FALSE &  TRUE & TRUE  & FALSE & FALSE &  TRUE &  TRUE\\\\\n",
       "\t TRUE  &  TRUE & FALSE &  TRUE &  TRUE & FALSE & FALSE &  TRUE &  TRUE & TRUE  & FALSE & FALSE &  TRUE &  TRUE\\\\\n",
       "\\end{tabular}\n"
      ],
      "text/markdown": [
       "\n",
       "| (Intercept) | X1 | X2 | X3 | X4 | X5 | X6 | X7 | X8 | X9 | X10 | X11 | X12 | X13 |\n",
       "|---|---|---|---|---|---|---|---|---|---|---|---|---|---|\n",
       "| TRUE  | FALSE | FALSE | FALSE | FALSE | FALSE | FALSE | FALSE | FALSE | TRUE  | FALSE | FALSE | FALSE | FALSE |\n",
       "| TRUE  |  TRUE | FALSE | FALSE | FALSE | FALSE | FALSE | FALSE | FALSE | TRUE  | FALSE | FALSE | FALSE | FALSE |\n",
       "| TRUE  |  TRUE | FALSE | FALSE |  TRUE | FALSE | FALSE | FALSE | FALSE | TRUE  | FALSE | FALSE | FALSE | FALSE |\n",
       "| TRUE  |  TRUE | FALSE | FALSE |  TRUE | FALSE | FALSE | FALSE |  TRUE | TRUE  | FALSE | FALSE | FALSE | FALSE |\n",
       "| TRUE  |  TRUE | FALSE | FALSE |  TRUE | FALSE | FALSE | FALSE |  TRUE | TRUE  | FALSE | FALSE |  TRUE | FALSE |\n",
       "| TRUE  |  TRUE | FALSE |  TRUE |  TRUE | FALSE | FALSE | FALSE |  TRUE | TRUE  | FALSE | FALSE |  TRUE | FALSE |\n",
       "| TRUE  |  TRUE | FALSE |  TRUE |  TRUE | FALSE | FALSE | FALSE |  TRUE | TRUE  | FALSE | FALSE |  TRUE |  TRUE |\n",
       "| TRUE  |  TRUE | FALSE |  TRUE |  TRUE | FALSE | FALSE |  TRUE |  TRUE | TRUE  | FALSE | FALSE |  TRUE |  TRUE |\n",
       "\n"
      ],
      "text/plain": [
       "  (Intercept) X1    X2    X3    X4    X5    X6    X7    X8    X9   X10   X11  \n",
       "1 TRUE        FALSE FALSE FALSE FALSE FALSE FALSE FALSE FALSE TRUE FALSE FALSE\n",
       "2 TRUE         TRUE FALSE FALSE FALSE FALSE FALSE FALSE FALSE TRUE FALSE FALSE\n",
       "3 TRUE         TRUE FALSE FALSE  TRUE FALSE FALSE FALSE FALSE TRUE FALSE FALSE\n",
       "4 TRUE         TRUE FALSE FALSE  TRUE FALSE FALSE FALSE  TRUE TRUE FALSE FALSE\n",
       "5 TRUE         TRUE FALSE FALSE  TRUE FALSE FALSE FALSE  TRUE TRUE FALSE FALSE\n",
       "6 TRUE         TRUE FALSE  TRUE  TRUE FALSE FALSE FALSE  TRUE TRUE FALSE FALSE\n",
       "7 TRUE         TRUE FALSE  TRUE  TRUE FALSE FALSE FALSE  TRUE TRUE FALSE FALSE\n",
       "8 TRUE         TRUE FALSE  TRUE  TRUE FALSE FALSE  TRUE  TRUE TRUE FALSE FALSE\n",
       "  X12   X13  \n",
       "1 FALSE FALSE\n",
       "2 FALSE FALSE\n",
       "3 FALSE FALSE\n",
       "4 FALSE FALSE\n",
       "5  TRUE FALSE\n",
       "6  TRUE FALSE\n",
       "7  TRUE  TRUE\n",
       "8  TRUE  TRUE"
      ]
     },
     "metadata": {},
     "output_type": "display_data"
    }
   ],
   "source": [
    "rs$which"
   ]
  },
  {
   "cell_type": "code",
   "execution_count": 56,
   "metadata": {},
   "outputs": [
    {
     "ename": "ERROR",
     "evalue": "Error in eval(expr, envir, enclos): S4 객체가 아닌 클래스 \"summary.regsubsets\"인 객체로부터 슬롯 \"outmat\"를 가져오려했습니다\n",
     "output_type": "error",
     "traceback": [
      "Error in eval(expr, envir, enclos): S4 객체가 아닌 클래스 \"summary.regsubsets\"인 객체로부터 슬롯 \"outmat\"를 가져오려했습니다\nTraceback:\n"
     ]
    }
   ],
   "source": [
    "rs@outmat"
   ]
  },
  {
   "cell_type": "code",
   "execution_count": 57,
   "metadata": {},
   "outputs": [
    {
     "data": {
      "text/html": [
       "<table>\n",
       "<thead><tr><th></th><th scope=col>X1</th><th scope=col>X2</th><th scope=col>X3</th><th scope=col>X4</th><th scope=col>X5</th><th scope=col>X6</th><th scope=col>X7</th><th scope=col>X8</th><th scope=col>X9</th><th scope=col>X10</th><th scope=col>X11</th><th scope=col>X12</th><th scope=col>X13</th></tr></thead>\n",
       "<tbody>\n",
       "\t<tr><th scope=row>1  ( 1 )</th><td> </td><td> </td><td> </td><td> </td><td> </td><td> </td><td> </td><td> </td><td>*</td><td> </td><td> </td><td> </td><td> </td></tr>\n",
       "\t<tr><th scope=row>2  ( 1 )</th><td>*</td><td> </td><td> </td><td> </td><td> </td><td> </td><td> </td><td> </td><td>*</td><td> </td><td> </td><td> </td><td> </td></tr>\n",
       "\t<tr><th scope=row>3  ( 1 )</th><td>*</td><td> </td><td> </td><td>*</td><td> </td><td> </td><td> </td><td> </td><td>*</td><td> </td><td> </td><td> </td><td> </td></tr>\n",
       "\t<tr><th scope=row>4  ( 1 )</th><td>*</td><td> </td><td> </td><td>*</td><td> </td><td> </td><td> </td><td>*</td><td>*</td><td> </td><td> </td><td> </td><td> </td></tr>\n",
       "\t<tr><th scope=row>5  ( 1 )</th><td>*</td><td> </td><td> </td><td>*</td><td> </td><td> </td><td> </td><td>*</td><td>*</td><td> </td><td> </td><td>*</td><td> </td></tr>\n",
       "\t<tr><th scope=row>6  ( 1 )</th><td>*</td><td> </td><td>*</td><td>*</td><td> </td><td> </td><td> </td><td>*</td><td>*</td><td> </td><td> </td><td>*</td><td> </td></tr>\n",
       "\t<tr><th scope=row>7  ( 1 )</th><td>*</td><td> </td><td>*</td><td>*</td><td> </td><td> </td><td> </td><td>*</td><td>*</td><td> </td><td> </td><td>*</td><td>*</td></tr>\n",
       "\t<tr><th scope=row>8  ( 1 )</th><td>*</td><td> </td><td>*</td><td>*</td><td> </td><td> </td><td>*</td><td>*</td><td>*</td><td> </td><td> </td><td>*</td><td>*</td></tr>\n",
       "</tbody>\n",
       "</table>\n"
      ],
      "text/latex": [
       "\\begin{tabular}{r|lllllllllllll}\n",
       "  & X1 & X2 & X3 & X4 & X5 & X6 & X7 & X8 & X9 & X10 & X11 & X12 & X13\\\\\n",
       "\\hline\n",
       "\t1  ( 1 ) &   &   &   &   &   &   &   &   & * &   &   &   &  \\\\\n",
       "\t2  ( 1 ) & * &   &   &   &   &   &   &   & * &   &   &   &  \\\\\n",
       "\t3  ( 1 ) & * &   &   & * &   &   &   &   & * &   &   &   &  \\\\\n",
       "\t4  ( 1 ) & * &   &   & * &   &   &   & * & * &   &   &   &  \\\\\n",
       "\t5  ( 1 ) & * &   &   & * &   &   &   & * & * &   &   & * &  \\\\\n",
       "\t6  ( 1 ) & * &   & * & * &   &   &   & * & * &   &   & * &  \\\\\n",
       "\t7  ( 1 ) & * &   & * & * &   &   &   & * & * &   &   & * & *\\\\\n",
       "\t8  ( 1 ) & * &   & * & * &   &   & * & * & * &   &   & * & *\\\\\n",
       "\\end{tabular}\n"
      ],
      "text/markdown": [
       "\n",
       "| <!--/--> | X1 | X2 | X3 | X4 | X5 | X6 | X7 | X8 | X9 | X10 | X11 | X12 | X13 |\n",
       "|---|---|---|---|---|---|---|---|---|---|---|---|---|---|\n",
       "| 1  ( 1 ) |   |   |   |   |   |   |   |   | * |   |   |   |   |\n",
       "| 2  ( 1 ) | * |   |   |   |   |   |   |   | * |   |   |   |   |\n",
       "| 3  ( 1 ) | * |   |   | * |   |   |   |   | * |   |   |   |   |\n",
       "| 4  ( 1 ) | * |   |   | * |   |   |   | * | * |   |   |   |   |\n",
       "| 5  ( 1 ) | * |   |   | * |   |   |   | * | * |   |   | * |   |\n",
       "| 6  ( 1 ) | * |   | * | * |   |   |   | * | * |   |   | * |   |\n",
       "| 7  ( 1 ) | * |   | * | * |   |   |   | * | * |   |   | * | * |\n",
       "| 8  ( 1 ) | * |   | * | * |   |   | * | * | * |   |   | * | * |\n",
       "\n"
      ],
      "text/plain": [
       "         X1 X2 X3 X4 X5 X6 X7 X8 X9 X10 X11 X12 X13\n",
       "1  ( 1 )                         *                 \n",
       "2  ( 1 ) *                       *                 \n",
       "3  ( 1 ) *        *              *                 \n",
       "4  ( 1 ) *        *           *  *                 \n",
       "5  ( 1 ) *        *           *  *          *      \n",
       "6  ( 1 ) *     *  *           *  *          *      \n",
       "7  ( 1 ) *     *  *           *  *          *   *  \n",
       "8  ( 1 ) *     *  *        *  *  *          *   *  "
      ]
     },
     "metadata": {},
     "output_type": "display_data"
    }
   ],
   "source": [
    "rs$outmat"
   ]
  },
  {
   "cell_type": "code",
   "execution_count": 58,
   "metadata": {},
   "outputs": [
    {
     "data": {
      "text/html": [
       "<table>\n",
       "<thead><tr><th scope=col>Y</th><th scope=col>X1</th><th scope=col>X2</th><th scope=col>X3</th><th scope=col>X4</th><th scope=col>X5</th><th scope=col>X6</th><th scope=col>X7</th><th scope=col>X8</th><th scope=col>X9</th><th scope=col>X10</th></tr></thead>\n",
       "<tbody>\n",
       "\t<tr><td>21.0 </td><td>6    </td><td>160.0</td><td>110  </td><td>3.90 </td><td>2.620</td><td>16.46</td><td>0    </td><td>1    </td><td>4    </td><td>4    </td></tr>\n",
       "\t<tr><td>21.0 </td><td>6    </td><td>160.0</td><td>110  </td><td>3.90 </td><td>2.875</td><td>17.02</td><td>0    </td><td>1    </td><td>4    </td><td>4    </td></tr>\n",
       "\t<tr><td>22.8 </td><td>4    </td><td>108.0</td><td> 93  </td><td>3.85 </td><td>2.320</td><td>18.61</td><td>1    </td><td>1    </td><td>4    </td><td>1    </td></tr>\n",
       "\t<tr><td>21.4 </td><td>6    </td><td>258.0</td><td>110  </td><td>3.08 </td><td>3.215</td><td>19.44</td><td>1    </td><td>0    </td><td>3    </td><td>1    </td></tr>\n",
       "\t<tr><td>18.7 </td><td>8    </td><td>360.0</td><td>175  </td><td>3.15 </td><td>3.440</td><td>17.02</td><td>0    </td><td>0    </td><td>3    </td><td>2    </td></tr>\n",
       "\t<tr><td>18.1 </td><td>6    </td><td>225.0</td><td>105  </td><td>2.76 </td><td>3.460</td><td>20.22</td><td>1    </td><td>0    </td><td>3    </td><td>1    </td></tr>\n",
       "\t<tr><td>14.3 </td><td>8    </td><td>360.0</td><td>245  </td><td>3.21 </td><td>3.570</td><td>15.84</td><td>0    </td><td>0    </td><td>3    </td><td>4    </td></tr>\n",
       "\t<tr><td>24.4 </td><td>4    </td><td>146.7</td><td> 62  </td><td>3.69 </td><td>3.190</td><td>20.00</td><td>1    </td><td>0    </td><td>4    </td><td>2    </td></tr>\n",
       "\t<tr><td>22.8 </td><td>4    </td><td>140.8</td><td> 95  </td><td>3.92 </td><td>3.150</td><td>22.90</td><td>1    </td><td>0    </td><td>4    </td><td>2    </td></tr>\n",
       "\t<tr><td>19.2 </td><td>6    </td><td>167.6</td><td>123  </td><td>3.92 </td><td>3.440</td><td>18.30</td><td>1    </td><td>0    </td><td>4    </td><td>4    </td></tr>\n",
       "\t<tr><td>17.8 </td><td>6    </td><td>167.6</td><td>123  </td><td>3.92 </td><td>3.440</td><td>18.90</td><td>1    </td><td>0    </td><td>4    </td><td>4    </td></tr>\n",
       "\t<tr><td>16.4 </td><td>8    </td><td>275.8</td><td>180  </td><td>3.07 </td><td>4.070</td><td>17.40</td><td>0    </td><td>0    </td><td>3    </td><td>3    </td></tr>\n",
       "\t<tr><td>17.3 </td><td>8    </td><td>275.8</td><td>180  </td><td>3.07 </td><td>3.730</td><td>17.60</td><td>0    </td><td>0    </td><td>3    </td><td>3    </td></tr>\n",
       "\t<tr><td>15.2 </td><td>8    </td><td>275.8</td><td>180  </td><td>3.07 </td><td>3.780</td><td>18.00</td><td>0    </td><td>0    </td><td>3    </td><td>3    </td></tr>\n",
       "\t<tr><td>10.4 </td><td>8    </td><td>472.0</td><td>205  </td><td>2.93 </td><td>5.250</td><td>17.98</td><td>0    </td><td>0    </td><td>3    </td><td>4    </td></tr>\n",
       "\t<tr><td>10.4 </td><td>8    </td><td>460.0</td><td>215  </td><td>3.00 </td><td>5.424</td><td>17.82</td><td>0    </td><td>0    </td><td>3    </td><td>4    </td></tr>\n",
       "\t<tr><td>14.7 </td><td>8    </td><td>440.0</td><td>230  </td><td>3.23 </td><td>5.345</td><td>17.42</td><td>0    </td><td>0    </td><td>3    </td><td>4    </td></tr>\n",
       "\t<tr><td>32.4 </td><td>4    </td><td> 78.7</td><td> 66  </td><td>4.08 </td><td>2.200</td><td>19.47</td><td>1    </td><td>1    </td><td>4    </td><td>1    </td></tr>\n",
       "\t<tr><td>30.4 </td><td>4    </td><td> 75.7</td><td> 52  </td><td>4.93 </td><td>1.615</td><td>18.52</td><td>1    </td><td>1    </td><td>4    </td><td>2    </td></tr>\n",
       "\t<tr><td>33.9 </td><td>4    </td><td> 71.1</td><td> 65  </td><td>4.22 </td><td>1.835</td><td>19.90</td><td>1    </td><td>1    </td><td>4    </td><td>1    </td></tr>\n",
       "\t<tr><td>21.5 </td><td>4    </td><td>120.1</td><td> 97  </td><td>3.70 </td><td>2.465</td><td>20.01</td><td>1    </td><td>0    </td><td>3    </td><td>1    </td></tr>\n",
       "\t<tr><td>15.5 </td><td>8    </td><td>318.0</td><td>150  </td><td>2.76 </td><td>3.520</td><td>16.87</td><td>0    </td><td>0    </td><td>3    </td><td>2    </td></tr>\n",
       "\t<tr><td>15.2 </td><td>8    </td><td>304.0</td><td>150  </td><td>3.15 </td><td>3.435</td><td>17.30</td><td>0    </td><td>0    </td><td>3    </td><td>2    </td></tr>\n",
       "\t<tr><td>13.3 </td><td>8    </td><td>350.0</td><td>245  </td><td>3.73 </td><td>3.840</td><td>15.41</td><td>0    </td><td>0    </td><td>3    </td><td>4    </td></tr>\n",
       "\t<tr><td>19.2 </td><td>8    </td><td>400.0</td><td>175  </td><td>3.08 </td><td>3.845</td><td>17.05</td><td>0    </td><td>0    </td><td>3    </td><td>2    </td></tr>\n",
       "\t<tr><td>27.3 </td><td>4    </td><td> 79.0</td><td> 66  </td><td>4.08 </td><td>1.935</td><td>18.90</td><td>1    </td><td>1    </td><td>4    </td><td>1    </td></tr>\n",
       "\t<tr><td>26.0 </td><td>4    </td><td>120.3</td><td> 91  </td><td>4.43 </td><td>2.140</td><td>16.70</td><td>0    </td><td>1    </td><td>5    </td><td>2    </td></tr>\n",
       "\t<tr><td>30.4 </td><td>4    </td><td> 95.1</td><td>113  </td><td>3.77 </td><td>1.513</td><td>16.90</td><td>1    </td><td>1    </td><td>5    </td><td>2    </td></tr>\n",
       "</tbody>\n",
       "</table>\n"
      ],
      "text/latex": [
       "\\begin{tabular}{r|lllllllllll}\n",
       " Y & X1 & X2 & X3 & X4 & X5 & X6 & X7 & X8 & X9 & X10\\\\\n",
       "\\hline\n",
       "\t 21.0  & 6     & 160.0 & 110   & 3.90  & 2.620 & 16.46 & 0     & 1     & 4     & 4    \\\\\n",
       "\t 21.0  & 6     & 160.0 & 110   & 3.90  & 2.875 & 17.02 & 0     & 1     & 4     & 4    \\\\\n",
       "\t 22.8  & 4     & 108.0 &  93   & 3.85  & 2.320 & 18.61 & 1     & 1     & 4     & 1    \\\\\n",
       "\t 21.4  & 6     & 258.0 & 110   & 3.08  & 3.215 & 19.44 & 1     & 0     & 3     & 1    \\\\\n",
       "\t 18.7  & 8     & 360.0 & 175   & 3.15  & 3.440 & 17.02 & 0     & 0     & 3     & 2    \\\\\n",
       "\t 18.1  & 6     & 225.0 & 105   & 2.76  & 3.460 & 20.22 & 1     & 0     & 3     & 1    \\\\\n",
       "\t 14.3  & 8     & 360.0 & 245   & 3.21  & 3.570 & 15.84 & 0     & 0     & 3     & 4    \\\\\n",
       "\t 24.4  & 4     & 146.7 &  62   & 3.69  & 3.190 & 20.00 & 1     & 0     & 4     & 2    \\\\\n",
       "\t 22.8  & 4     & 140.8 &  95   & 3.92  & 3.150 & 22.90 & 1     & 0     & 4     & 2    \\\\\n",
       "\t 19.2  & 6     & 167.6 & 123   & 3.92  & 3.440 & 18.30 & 1     & 0     & 4     & 4    \\\\\n",
       "\t 17.8  & 6     & 167.6 & 123   & 3.92  & 3.440 & 18.90 & 1     & 0     & 4     & 4    \\\\\n",
       "\t 16.4  & 8     & 275.8 & 180   & 3.07  & 4.070 & 17.40 & 0     & 0     & 3     & 3    \\\\\n",
       "\t 17.3  & 8     & 275.8 & 180   & 3.07  & 3.730 & 17.60 & 0     & 0     & 3     & 3    \\\\\n",
       "\t 15.2  & 8     & 275.8 & 180   & 3.07  & 3.780 & 18.00 & 0     & 0     & 3     & 3    \\\\\n",
       "\t 10.4  & 8     & 472.0 & 205   & 2.93  & 5.250 & 17.98 & 0     & 0     & 3     & 4    \\\\\n",
       "\t 10.4  & 8     & 460.0 & 215   & 3.00  & 5.424 & 17.82 & 0     & 0     & 3     & 4    \\\\\n",
       "\t 14.7  & 8     & 440.0 & 230   & 3.23  & 5.345 & 17.42 & 0     & 0     & 3     & 4    \\\\\n",
       "\t 32.4  & 4     &  78.7 &  66   & 4.08  & 2.200 & 19.47 & 1     & 1     & 4     & 1    \\\\\n",
       "\t 30.4  & 4     &  75.7 &  52   & 4.93  & 1.615 & 18.52 & 1     & 1     & 4     & 2    \\\\\n",
       "\t 33.9  & 4     &  71.1 &  65   & 4.22  & 1.835 & 19.90 & 1     & 1     & 4     & 1    \\\\\n",
       "\t 21.5  & 4     & 120.1 &  97   & 3.70  & 2.465 & 20.01 & 1     & 0     & 3     & 1    \\\\\n",
       "\t 15.5  & 8     & 318.0 & 150   & 2.76  & 3.520 & 16.87 & 0     & 0     & 3     & 2    \\\\\n",
       "\t 15.2  & 8     & 304.0 & 150   & 3.15  & 3.435 & 17.30 & 0     & 0     & 3     & 2    \\\\\n",
       "\t 13.3  & 8     & 350.0 & 245   & 3.73  & 3.840 & 15.41 & 0     & 0     & 3     & 4    \\\\\n",
       "\t 19.2  & 8     & 400.0 & 175   & 3.08  & 3.845 & 17.05 & 0     & 0     & 3     & 2    \\\\\n",
       "\t 27.3  & 4     &  79.0 &  66   & 4.08  & 1.935 & 18.90 & 1     & 1     & 4     & 1    \\\\\n",
       "\t 26.0  & 4     & 120.3 &  91   & 4.43  & 2.140 & 16.70 & 0     & 1     & 5     & 2    \\\\\n",
       "\t 30.4  & 4     &  95.1 & 113   & 3.77  & 1.513 & 16.90 & 1     & 1     & 5     & 2    \\\\\n",
       "\\end{tabular}\n"
      ],
      "text/markdown": [
       "\n",
       "| Y | X1 | X2 | X3 | X4 | X5 | X6 | X7 | X8 | X9 | X10 |\n",
       "|---|---|---|---|---|---|---|---|---|---|---|\n",
       "| 21.0  | 6     | 160.0 | 110   | 3.90  | 2.620 | 16.46 | 0     | 1     | 4     | 4     |\n",
       "| 21.0  | 6     | 160.0 | 110   | 3.90  | 2.875 | 17.02 | 0     | 1     | 4     | 4     |\n",
       "| 22.8  | 4     | 108.0 |  93   | 3.85  | 2.320 | 18.61 | 1     | 1     | 4     | 1     |\n",
       "| 21.4  | 6     | 258.0 | 110   | 3.08  | 3.215 | 19.44 | 1     | 0     | 3     | 1     |\n",
       "| 18.7  | 8     | 360.0 | 175   | 3.15  | 3.440 | 17.02 | 0     | 0     | 3     | 2     |\n",
       "| 18.1  | 6     | 225.0 | 105   | 2.76  | 3.460 | 20.22 | 1     | 0     | 3     | 1     |\n",
       "| 14.3  | 8     | 360.0 | 245   | 3.21  | 3.570 | 15.84 | 0     | 0     | 3     | 4     |\n",
       "| 24.4  | 4     | 146.7 |  62   | 3.69  | 3.190 | 20.00 | 1     | 0     | 4     | 2     |\n",
       "| 22.8  | 4     | 140.8 |  95   | 3.92  | 3.150 | 22.90 | 1     | 0     | 4     | 2     |\n",
       "| 19.2  | 6     | 167.6 | 123   | 3.92  | 3.440 | 18.30 | 1     | 0     | 4     | 4     |\n",
       "| 17.8  | 6     | 167.6 | 123   | 3.92  | 3.440 | 18.90 | 1     | 0     | 4     | 4     |\n",
       "| 16.4  | 8     | 275.8 | 180   | 3.07  | 4.070 | 17.40 | 0     | 0     | 3     | 3     |\n",
       "| 17.3  | 8     | 275.8 | 180   | 3.07  | 3.730 | 17.60 | 0     | 0     | 3     | 3     |\n",
       "| 15.2  | 8     | 275.8 | 180   | 3.07  | 3.780 | 18.00 | 0     | 0     | 3     | 3     |\n",
       "| 10.4  | 8     | 472.0 | 205   | 2.93  | 5.250 | 17.98 | 0     | 0     | 3     | 4     |\n",
       "| 10.4  | 8     | 460.0 | 215   | 3.00  | 5.424 | 17.82 | 0     | 0     | 3     | 4     |\n",
       "| 14.7  | 8     | 440.0 | 230   | 3.23  | 5.345 | 17.42 | 0     | 0     | 3     | 4     |\n",
       "| 32.4  | 4     |  78.7 |  66   | 4.08  | 2.200 | 19.47 | 1     | 1     | 4     | 1     |\n",
       "| 30.4  | 4     |  75.7 |  52   | 4.93  | 1.615 | 18.52 | 1     | 1     | 4     | 2     |\n",
       "| 33.9  | 4     |  71.1 |  65   | 4.22  | 1.835 | 19.90 | 1     | 1     | 4     | 1     |\n",
       "| 21.5  | 4     | 120.1 |  97   | 3.70  | 2.465 | 20.01 | 1     | 0     | 3     | 1     |\n",
       "| 15.5  | 8     | 318.0 | 150   | 2.76  | 3.520 | 16.87 | 0     | 0     | 3     | 2     |\n",
       "| 15.2  | 8     | 304.0 | 150   | 3.15  | 3.435 | 17.30 | 0     | 0     | 3     | 2     |\n",
       "| 13.3  | 8     | 350.0 | 245   | 3.73  | 3.840 | 15.41 | 0     | 0     | 3     | 4     |\n",
       "| 19.2  | 8     | 400.0 | 175   | 3.08  | 3.845 | 17.05 | 0     | 0     | 3     | 2     |\n",
       "| 27.3  | 4     |  79.0 |  66   | 4.08  | 1.935 | 18.90 | 1     | 1     | 4     | 1     |\n",
       "| 26.0  | 4     | 120.3 |  91   | 4.43  | 2.140 | 16.70 | 0     | 1     | 5     | 2     |\n",
       "| 30.4  | 4     |  95.1 | 113   | 3.77  | 1.513 | 16.90 | 1     | 1     | 5     | 2     |\n",
       "\n"
      ],
      "text/plain": [
       "   Y    X1 X2    X3  X4   X5    X6    X7 X8 X9 X10\n",
       "1  21.0 6  160.0 110 3.90 2.620 16.46 0  1  4  4  \n",
       "2  21.0 6  160.0 110 3.90 2.875 17.02 0  1  4  4  \n",
       "3  22.8 4  108.0  93 3.85 2.320 18.61 1  1  4  1  \n",
       "4  21.4 6  258.0 110 3.08 3.215 19.44 1  0  3  1  \n",
       "5  18.7 8  360.0 175 3.15 3.440 17.02 0  0  3  2  \n",
       "6  18.1 6  225.0 105 2.76 3.460 20.22 1  0  3  1  \n",
       "7  14.3 8  360.0 245 3.21 3.570 15.84 0  0  3  4  \n",
       "8  24.4 4  146.7  62 3.69 3.190 20.00 1  0  4  2  \n",
       "9  22.8 4  140.8  95 3.92 3.150 22.90 1  0  4  2  \n",
       "10 19.2 6  167.6 123 3.92 3.440 18.30 1  0  4  4  \n",
       "11 17.8 6  167.6 123 3.92 3.440 18.90 1  0  4  4  \n",
       "12 16.4 8  275.8 180 3.07 4.070 17.40 0  0  3  3  \n",
       "13 17.3 8  275.8 180 3.07 3.730 17.60 0  0  3  3  \n",
       "14 15.2 8  275.8 180 3.07 3.780 18.00 0  0  3  3  \n",
       "15 10.4 8  472.0 205 2.93 5.250 17.98 0  0  3  4  \n",
       "16 10.4 8  460.0 215 3.00 5.424 17.82 0  0  3  4  \n",
       "17 14.7 8  440.0 230 3.23 5.345 17.42 0  0  3  4  \n",
       "18 32.4 4   78.7  66 4.08 2.200 19.47 1  1  4  1  \n",
       "19 30.4 4   75.7  52 4.93 1.615 18.52 1  1  4  2  \n",
       "20 33.9 4   71.1  65 4.22 1.835 19.90 1  1  4  1  \n",
       "21 21.5 4  120.1  97 3.70 2.465 20.01 1  0  3  1  \n",
       "22 15.5 8  318.0 150 2.76 3.520 16.87 0  0  3  2  \n",
       "23 15.2 8  304.0 150 3.15 3.435 17.30 0  0  3  2  \n",
       "24 13.3 8  350.0 245 3.73 3.840 15.41 0  0  3  4  \n",
       "25 19.2 8  400.0 175 3.08 3.845 17.05 0  0  3  2  \n",
       "26 27.3 4   79.0  66 4.08 1.935 18.90 1  1  4  1  \n",
       "27 26.0 4  120.3  91 4.43 2.140 16.70 0  1  5  2  \n",
       "28 30.4 4   95.1 113 3.77 1.513 16.90 1  1  5  2  "
      ]
     },
     "metadata": {},
     "output_type": "display_data"
    }
   ],
   "source": [
    "data <- read.table('p118.csv', header=T, sep = ',')\n",
    "data"
   ]
  },
  {
   "cell_type": "code",
   "execution_count": 59,
   "metadata": {},
   "outputs": [
    {
     "name": "stdout",
     "output_type": "stream",
     "text": [
      "Start:  AIC=104.2\n",
      "Y ~ 1\n",
      "\n",
      "       Df Sum of Sq     RSS     AIC\n",
      "+ X5    1    843.49  233.81  63.425\n",
      "+ X1    1    798.21  279.09  68.381\n",
      "+ X2    1    794.67  282.63  68.734\n",
      "+ X3    1    761.43  315.87  71.847\n",
      "+ X8    1    622.63  454.67  82.046\n",
      "+ X4    1    602.08  475.22  83.284\n",
      "+ X9    1    582.36  494.94  84.422\n",
      "+ X7    1    471.33  605.97  90.089\n",
      "+ X10   1    432.00  645.30  91.850\n",
      "+ X6    1    158.86  918.44 101.733\n",
      "<none>              1077.30 104.200\n",
      "\n",
      "Step:  AIC=63.42\n",
      "Y ~ X5\n",
      "\n",
      "       Df Sum of Sq     RSS     AIC\n",
      "+ X1    1     65.69  168.13  56.190\n",
      "+ X3    1     50.67  183.14  58.585\n",
      "+ X6    1     44.49  189.32  59.515\n",
      "+ X7    1     34.37  199.44  60.973\n",
      "+ X9    1     25.82  207.99  62.148\n",
      "+ X4    1     24.12  209.69  62.376\n",
      "+ X8    1     20.91  212.90  62.801\n",
      "+ X2    1     19.93  213.88  62.930\n",
      "<none>               233.81  63.425\n",
      "+ X10   1     16.07  217.74  63.431\n",
      "- X5    1    843.49 1077.30 104.200\n",
      "\n",
      "Step:  AIC=56.19\n",
      "Y ~ X5 + X1\n",
      "\n",
      "       Df Sum of Sq    RSS    AIC\n",
      "+ X8    1    12.591 155.54 56.011\n",
      "<none>              168.13 56.190\n",
      "+ X10   1     6.039 162.09 57.166\n",
      "+ X3    1     4.501 163.62 57.431\n",
      "+ X2    1     2.299 165.83 57.805\n",
      "+ X4    1     1.837 166.29 57.883\n",
      "+ X6    1     1.595 166.53 57.924\n",
      "+ X9    1     1.416 166.71 57.954\n",
      "+ X7    1     0.091 168.03 58.175\n",
      "- X1    1    65.686 233.81 63.425\n",
      "- X5    1   110.960 279.09 68.381\n",
      "\n",
      "Step:  AIC=56.01\n",
      "Y ~ X5 + X1 + X8\n",
      "\n",
      "       Df Sum of Sq    RSS    AIC\n",
      "+ X6    1    16.444 139.09 54.882\n",
      "+ X10   1    15.829 139.71 55.006\n",
      "<none>              155.54 56.011\n",
      "- X8    1    12.591 168.13 56.190\n",
      "+ X7    1     7.489 148.05 56.629\n",
      "+ X3    1     6.198 149.34 56.872\n",
      "+ X2    1     1.449 154.09 57.749\n",
      "+ X9    1     0.336 155.20 57.950\n",
      "+ X4    1     0.000 155.54 58.011\n",
      "- X5    1    53.805 209.34 62.329\n",
      "- X1    1    57.365 212.90 62.801\n",
      "\n",
      "Step:  AIC=54.88\n",
      "Y ~ X5 + X1 + X8 + X6\n",
      "\n",
      "       Df Sum of Sq    RSS    AIC\n",
      "- X1    1     1.718 140.81 53.226\n",
      "<none>              139.09 54.882\n",
      "+ X10   1     5.951 133.14 55.658\n",
      "+ X2    1     5.617 133.47 55.728\n",
      "- X6    1    16.444 155.54 56.011\n",
      "+ X7    1     1.902 137.19 56.497\n",
      "+ X9    1     1.745 137.35 56.529\n",
      "+ X4    1     1.301 137.79 56.619\n",
      "+ X3    1     0.121 138.97 56.858\n",
      "- X8    1    27.440 166.53 57.924\n",
      "- X5    1    67.802 206.89 64.000\n",
      "\n",
      "Step:  AIC=53.23\n",
      "Y ~ X5 + X8 + X6\n",
      "\n",
      "       Df Sum of Sq    RSS    AIC\n",
      "<none>              140.81 53.226\n",
      "+ X10   1     4.437 136.37 54.329\n",
      "+ X9    1     3.411 137.40 54.539\n",
      "+ X7    1     3.304 137.51 54.561\n",
      "+ X2    1     3.107 137.70 54.601\n",
      "+ X4    1     2.638 138.17 54.696\n",
      "+ X1    1     1.718 139.09 54.882\n",
      "+ X3    1     0.318 140.49 55.163\n",
      "- X8    1    48.512 189.32 59.515\n",
      "- X6    1    72.090 212.90 62.801\n",
      "- X5    1   129.450 270.26 69.481\n"
     ]
    },
    {
     "data": {
      "text/plain": [
       "\n",
       "Call:\n",
       "lm(formula = Y ~ X5 + X8 + X6, data = data)\n",
       "\n",
       "Coefficients:\n",
       "(Intercept)           X5           X8           X6  \n",
       "     10.167       -3.459        4.527        1.101  \n"
      ]
     },
     "metadata": {},
     "output_type": "display_data"
    }
   ],
   "source": [
    "data <- read.table('p118.csv', header=T, sep = ',')\n",
    "start.lm <- lm(Y~1, data=data)\n",
    "full.lm <- lm(Y~ ., data=data)\n",
    "step(start.lm, scope=list(lower=start.lm, upper=full.lm), directoin=\"forward\")"
   ]
  },
  {
   "cell_type": "code",
   "execution_count": 60,
   "metadata": {},
   "outputs": [
    {
     "name": "stdout",
     "output_type": "stream",
     "text": [
      "Start:  AIC=58.86\n",
      "Y ~ X1 + X2 + X3 + X4 + X5 + X6 + X7 + X8 + X9 + X10\n",
      "\n",
      "       Df Sum of Sq    RSS    AIC\n",
      "- X3    1    0.0008 104.46 56.865\n",
      "- X2    1    1.2053 105.66 57.186\n",
      "- X7    1    5.2304 109.69 58.232\n",
      "- X1    1    5.7090 110.17 58.354\n",
      "- X6    1    6.5644 111.02 58.571\n",
      "- X5    1    7.2922 111.75 58.754\n",
      "<none>              104.46 58.864\n",
      "- X9    1   13.1082 117.57 60.174\n",
      "- X4    1   14.4708 118.93 60.497\n",
      "- X10   1   15.5613 120.02 60.753\n",
      "- X8    1   18.1750 122.63 61.356\n",
      "\n",
      "Step:  AIC=56.86\n",
      "Y ~ X1 + X2 + X4 + X5 + X6 + X7 + X8 + X9 + X10\n",
      "\n",
      "       Df Sum of Sq    RSS    AIC\n",
      "- X2    1    1.4859 105.94 55.260\n",
      "- X7    1    5.2349 109.69 56.234\n",
      "- X1    1    5.7197 110.18 56.357\n",
      "- X6    1    7.1080 111.57 56.708\n",
      "- X5    1    7.3710 111.83 56.774\n",
      "<none>              104.46 56.865\n",
      "- X9    1   13.5435 118.00 58.278\n",
      "- X4    1   14.4954 118.95 58.503\n",
      "- X10   1   17.4791 121.94 59.197\n",
      "- X8    1   18.9254 123.39 59.527\n",
      "\n",
      "Step:  AIC=55.26\n",
      "Y ~ X1 + X4 + X5 + X6 + X7 + X8 + X9 + X10\n",
      "\n",
      "       Df Sum of Sq    RSS    AIC\n",
      "- X7    1    4.8973 110.84 54.525\n",
      "- X6    1    5.6386 111.58 54.712\n",
      "- X1    1    6.8972 112.84 55.026\n",
      "<none>              105.94 55.260\n",
      "- X5    1    7.9421 113.89 55.284\n",
      "- X9    1   12.9328 118.88 56.485\n",
      "- X4    1   15.4244 121.37 57.066\n",
      "- X8    1   18.2366 124.18 57.707\n",
      "- X10   1   28.3617 134.31 59.902\n",
      "\n",
      "Step:  AIC=54.53\n",
      "Y ~ X1 + X4 + X5 + X6 + X8 + X9 + X10\n",
      "\n",
      "       Df Sum of Sq    RSS    AIC\n",
      "- X1    1    3.5373 114.38 53.405\n",
      "<none>              110.84 54.525\n",
      "- X6    1   10.3981 121.24 55.036\n",
      "- X9    1   11.2999 122.14 55.244\n",
      "- X5    1   12.3662 123.21 55.487\n",
      "- X4    1   13.7138 124.56 55.792\n",
      "- X8    1   14.3269 125.17 55.929\n",
      "- X10   1   25.7465 136.59 58.374\n",
      "\n",
      "Step:  AIC=53.4\n",
      "Y ~ X4 + X5 + X6 + X8 + X9 + X10\n",
      "\n",
      "       Df Sum of Sq    RSS    AIC\n",
      "- X6    1    7.0923 121.47 53.089\n",
      "- X9    1    7.7804 122.16 53.248\n",
      "<none>              114.38 53.405\n",
      "- X5    1   10.2807 124.66 53.815\n",
      "- X4    1   10.2817 124.66 53.815\n",
      "- X8    1   12.5945 126.97 54.330\n",
      "- X10   1   22.2100 136.59 56.374\n",
      "\n",
      "Step:  AIC=53.09\n",
      "Y ~ X4 + X5 + X8 + X9 + X10\n",
      "\n",
      "       Df Sum of Sq    RSS    AIC\n",
      "- X5    1     5.719 127.19 52.378\n",
      "- X8    1     7.134 128.61 52.688\n",
      "<none>              121.47 53.089\n",
      "- X9    1    13.858 135.33 54.114\n",
      "- X4    1    23.777 145.25 56.095\n",
      "- X10   1    76.182 197.65 64.721\n",
      "\n",
      "Step:  AIC=52.38\n",
      "Y ~ X4 + X8 + X9 + X10\n",
      "\n",
      "       Df Sum of Sq    RSS    AIC\n",
      "<none>              127.19 52.378\n",
      "- X8    1    13.438 140.63 53.190\n",
      "- X9    1    19.664 146.86 54.403\n",
      "- X4    1    42.517 169.71 58.452\n",
      "- X10   1   227.532 354.72 79.096\n"
     ]
    },
    {
     "data": {
      "text/plain": [
       "\n",
       "Call:\n",
       "lm(formula = Y ~ X4 + X8 + X9 + X10, data = data)\n",
       "\n",
       "Coefficients:\n",
       "(Intercept)           X4           X8           X9          X10  \n",
       "      3.432        3.931        2.479        2.410       -2.536  \n"
      ]
     },
     "metadata": {},
     "output_type": "display_data"
    }
   ],
   "source": [
    "step(full.lm, data=data, direction=\"backward\")"
   ]
  },
  {
   "cell_type": "code",
   "execution_count": 61,
   "metadata": {},
   "outputs": [
    {
     "name": "stdout",
     "output_type": "stream",
     "text": [
      "Start:  AIC=104.2\n",
      "Y ~ 1\n",
      "\n",
      "       Df Sum of Sq     RSS     AIC\n",
      "+ X5    1    843.49  233.81  63.425\n",
      "+ X1    1    798.21  279.09  68.381\n",
      "+ X2    1    794.67  282.63  68.734\n",
      "+ X3    1    761.43  315.87  71.847\n",
      "+ X8    1    622.63  454.67  82.046\n",
      "+ X4    1    602.08  475.22  83.284\n",
      "+ X9    1    582.36  494.94  84.422\n",
      "+ X7    1    471.33  605.97  90.089\n",
      "+ X10   1    432.00  645.30  91.850\n",
      "+ X6    1    158.86  918.44 101.733\n",
      "<none>              1077.30 104.200\n",
      "\n",
      "Step:  AIC=63.42\n",
      "Y ~ X5\n",
      "\n",
      "       Df Sum of Sq     RSS     AIC\n",
      "+ X1    1     65.69  168.13  56.190\n",
      "+ X3    1     50.67  183.14  58.585\n",
      "+ X6    1     44.49  189.32  59.515\n",
      "+ X7    1     34.37  199.44  60.973\n",
      "+ X9    1     25.82  207.99  62.148\n",
      "+ X4    1     24.12  209.69  62.376\n",
      "+ X8    1     20.91  212.90  62.801\n",
      "+ X2    1     19.93  213.88  62.930\n",
      "<none>               233.81  63.425\n",
      "+ X10   1     16.07  217.74  63.431\n",
      "- X5    1    843.49 1077.30 104.200\n",
      "\n",
      "Step:  AIC=56.19\n",
      "Y ~ X5 + X1\n",
      "\n",
      "       Df Sum of Sq    RSS    AIC\n",
      "+ X8    1    12.591 155.54 56.011\n",
      "<none>              168.13 56.190\n",
      "+ X10   1     6.039 162.09 57.166\n",
      "+ X3    1     4.501 163.62 57.431\n",
      "+ X2    1     2.299 165.83 57.805\n",
      "+ X4    1     1.837 166.29 57.883\n",
      "+ X6    1     1.595 166.53 57.924\n",
      "+ X9    1     1.416 166.71 57.954\n",
      "+ X7    1     0.091 168.03 58.175\n",
      "- X1    1    65.686 233.81 63.425\n",
      "- X5    1   110.960 279.09 68.381\n",
      "\n",
      "Step:  AIC=56.01\n",
      "Y ~ X5 + X1 + X8\n",
      "\n",
      "       Df Sum of Sq    RSS    AIC\n",
      "+ X6    1    16.444 139.09 54.882\n",
      "+ X10   1    15.829 139.71 55.006\n",
      "<none>              155.54 56.011\n",
      "- X8    1    12.591 168.13 56.190\n",
      "+ X7    1     7.489 148.05 56.629\n",
      "+ X3    1     6.198 149.34 56.872\n",
      "+ X2    1     1.449 154.09 57.749\n",
      "+ X9    1     0.336 155.20 57.950\n",
      "+ X4    1     0.000 155.54 58.011\n",
      "- X5    1    53.805 209.34 62.329\n",
      "- X1    1    57.365 212.90 62.801\n",
      "\n",
      "Step:  AIC=54.88\n",
      "Y ~ X5 + X1 + X8 + X6\n",
      "\n",
      "       Df Sum of Sq    RSS    AIC\n",
      "- X1    1     1.718 140.81 53.226\n",
      "<none>              139.09 54.882\n",
      "+ X10   1     5.951 133.14 55.658\n",
      "+ X2    1     5.617 133.47 55.728\n",
      "- X6    1    16.444 155.54 56.011\n",
      "+ X7    1     1.902 137.19 56.497\n",
      "+ X9    1     1.745 137.35 56.529\n",
      "+ X4    1     1.301 137.79 56.619\n",
      "+ X3    1     0.121 138.97 56.858\n",
      "- X8    1    27.440 166.53 57.924\n",
      "- X5    1    67.802 206.89 64.000\n",
      "\n",
      "Step:  AIC=53.23\n",
      "Y ~ X5 + X8 + X6\n",
      "\n",
      "       Df Sum of Sq    RSS    AIC\n",
      "<none>              140.81 53.226\n",
      "+ X10   1     4.437 136.37 54.329\n",
      "+ X9    1     3.411 137.40 54.539\n",
      "+ X7    1     3.304 137.51 54.561\n",
      "+ X2    1     3.107 137.70 54.601\n",
      "+ X4    1     2.638 138.17 54.696\n",
      "+ X1    1     1.718 139.09 54.882\n",
      "+ X3    1     0.318 140.49 55.163\n",
      "- X8    1    48.512 189.32 59.515\n",
      "- X6    1    72.090 212.90 62.801\n",
      "- X5    1   129.450 270.26 69.481\n"
     ]
    },
    {
     "data": {
      "text/plain": [
       "\n",
       "Call:\n",
       "lm(formula = Y ~ X5 + X8 + X6, data = data)\n",
       "\n",
       "Coefficients:\n",
       "(Intercept)           X5           X8           X6  \n",
       "     10.167       -3.459        4.527        1.101  \n"
      ]
     },
     "metadata": {},
     "output_type": "display_data"
    }
   ],
   "source": [
    "step(start.lm, scope=list(upper=full.lm), data=data, direction=\"both\")"
   ]
  },
  {
   "cell_type": "code",
   "execution_count": 64,
   "metadata": {},
   "outputs": [
    {
     "data": {
      "text/plain": [
       "Subset selection object\n",
       "Call: regsubsets.formula(Y ~ ., data = data)\n",
       "10 Variables  (and intercept)\n",
       "    Forced in Forced out\n",
       "X1      FALSE      FALSE\n",
       "X2      FALSE      FALSE\n",
       "X3      FALSE      FALSE\n",
       "X4      FALSE      FALSE\n",
       "X5      FALSE      FALSE\n",
       "X6      FALSE      FALSE\n",
       "X7      FALSE      FALSE\n",
       "X8      FALSE      FALSE\n",
       "X9      FALSE      FALSE\n",
       "X10     FALSE      FALSE\n",
       "1 subsets of each size up to 8\n",
       "Selection Algorithm: exhaustive\n",
       "         X1  X2  X3  X4  X5  X6  X7  X8  X9  X10\n",
       "1  ( 1 ) \" \" \" \" \" \" \" \" \"*\" \" \" \" \" \" \" \" \" \" \"\n",
       "2  ( 1 ) \"*\" \" \" \" \" \" \" \"*\" \" \" \" \" \" \" \" \" \" \"\n",
       "3  ( 1 ) \" \" \" \" \" \" \"*\" \" \" \" \" \" \" \" \" \"*\" \"*\"\n",
       "4  ( 1 ) \" \" \" \" \" \" \"*\" \" \" \" \" \" \" \"*\" \"*\" \"*\"\n",
       "5  ( 1 ) \" \" \" \" \" \" \"*\" \" \" \" \" \"*\" \"*\" \"*\" \"*\"\n",
       "6  ( 1 ) \" \" \" \" \" \" \"*\" \"*\" \"*\" \" \" \"*\" \"*\" \"*\"\n",
       "7  ( 1 ) \"*\" \" \" \" \" \"*\" \"*\" \"*\" \" \" \"*\" \"*\" \"*\"\n",
       "8  ( 1 ) \"*\" \" \" \" \" \"*\" \"*\" \"*\" \"*\" \"*\" \"*\" \"*\""
      ]
     },
     "metadata": {},
     "output_type": "display_data"
    }
   ],
   "source": [
    "all.lm=regsubsets(Y~., data=data)\n",
    "(rs=summary(all.lm))"
   ]
  },
  {
   "cell_type": "code",
   "execution_count": null,
   "metadata": {},
   "outputs": [],
   "source": []
  }
 ],
 "metadata": {
  "kernelspec": {
   "display_name": "R",
   "language": "R",
   "name": "ir"
  },
  "language_info": {
   "codemirror_mode": "r",
   "file_extension": ".r",
   "mimetype": "text/x-r-source",
   "name": "R",
   "pygments_lexer": "r",
   "version": "3.6.1"
  }
 },
 "nbformat": 4,
 "nbformat_minor": 4
}
