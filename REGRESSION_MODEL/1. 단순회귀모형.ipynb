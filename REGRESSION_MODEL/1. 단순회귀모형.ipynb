{
 "cells": [
  {
   "cell_type": "markdown",
   "metadata": {},
   "source": [
    "## 산점도 그리기"
   ]
  },
  {
   "cell_type": "code",
   "execution_count": 2,
   "metadata": {},
   "outputs": [
    {
     "data": {
      "text/html": [
       "<table>\n",
       "<thead><tr><th scope=col>ID</th><th scope=col>X</th><th scope=col>Y</th></tr></thead>\n",
       "<tbody>\n",
       "\t<tr><td>1   </td><td> 4.2</td><td> 9.3</td></tr>\n",
       "\t<tr><td>2   </td><td> 8.5</td><td>18.5</td></tr>\n",
       "\t<tr><td>3   </td><td> 9.3</td><td>22.8</td></tr>\n",
       "\t<tr><td>4   </td><td> 7.5</td><td>17.7</td></tr>\n",
       "\t<tr><td>5   </td><td> 6.3</td><td>14.6</td></tr>\n",
       "\t<tr><td>6   </td><td>12.2</td><td>27.9</td></tr>\n",
       "</tbody>\n",
       "</table>\n"
      ],
      "text/latex": [
       "\\begin{tabular}{r|lll}\n",
       " ID & X & Y\\\\\n",
       "\\hline\n",
       "\t 1    &  4.2 &  9.3\\\\\n",
       "\t 2    &  8.5 & 18.5\\\\\n",
       "\t 3    &  9.3 & 22.8\\\\\n",
       "\t 4    &  7.5 & 17.7\\\\\n",
       "\t 5    &  6.3 & 14.6\\\\\n",
       "\t 6    & 12.2 & 27.9\\\\\n",
       "\\end{tabular}\n"
      ],
      "text/markdown": [
       "\n",
       "| ID | X | Y |\n",
       "|---|---|---|\n",
       "| 1    |  4.2 |  9.3 |\n",
       "| 2    |  8.5 | 18.5 |\n",
       "| 3    |  9.3 | 22.8 |\n",
       "| 4    |  7.5 | 17.7 |\n",
       "| 5    |  6.3 | 14.6 |\n",
       "| 6    | 12.2 | 27.9 |\n",
       "\n"
      ],
      "text/plain": [
       "  ID X    Y   \n",
       "1 1   4.2  9.3\n",
       "2 2   8.5 18.5\n",
       "3 3   9.3 22.8\n",
       "4 4   7.5 17.7\n",
       "5 5   6.3 14.6\n",
       "6 6  12.2 27.9"
      ]
     },
     "metadata": {},
     "output_type": "display_data"
    }
   ],
   "source": [
    "market = read.table(\"reg/market-1.txt\", header=T)\n",
    "head(market)"
   ]
  },
  {
   "cell_type": "code",
   "execution_count": 4,
   "metadata": {},
   "outputs": [
    {
     "data": {
      "image/png": "[encoded data removed]",
      "text/plain": [
       "Plot with title \"광고료와 판매액의 산점도\""
      ]
     },
     "metadata": {},
     "output_type": "display_data"
    }
   ],
   "source": [
    "plot(market$X, market$Y, xlab=\"광고료\", ylab=\"총판매액\", pch=19)\n",
    "title(\"광고료와 판매액의 산점도\")"
   ]
  },
  {
   "cell_type": "markdown",
   "metadata": {},
   "source": [
    "## 회귀선의 추정"
   ]
  },
  {
   "cell_type": "code",
   "execution_count": 5,
   "metadata": {},
   "outputs": [
    {
     "data": {
      "text/plain": [
       "\n",
       "Call:\n",
       "lm(formula = Y ~ X, data = market)\n",
       "\n",
       "Residuals:\n",
       "     Min       1Q   Median       3Q      Max \n",
       "-2.02908 -1.35349 -0.05685  0.98903  2.51517 \n",
       "\n",
       "Coefficients:\n",
       "            Estimate Std. Error t value Pr(>|t|)    \n",
       "(Intercept)   0.3282     1.4302   0.229    0.822    \n",
       "X             2.1497     0.1548  13.889 3.55e-09 ***\n",
       "---\n",
       "Signif. codes:  0 '***' 0.001 '**' 0.01 '*' 0.05 '.' 0.1 ' ' 1\n",
       "\n",
       "Residual standard error: 1.587 on 13 degrees of freedom\n",
       "Multiple R-squared:  0.9369,\tAdjusted R-squared:  0.932 \n",
       "F-statistic: 192.9 on 1 and 13 DF,  p-value: 3.554e-09\n"
      ]
     },
     "metadata": {},
     "output_type": "display_data"
    }
   ],
   "source": [
    "market.lm = lm(Y ~ X, data=market)\n",
    "summary(market.lm)"
   ]
  },
  {
   "cell_type": "code",
   "execution_count": 6,
   "metadata": {},
   "outputs": [
    {
     "data": {
      "image/png": "[encoded data removed]",
      "text/plain": [
       "Plot with title \"광고료와 판매액의 산점도\""
      ]
     },
     "metadata": {},
     "output_type": "display_data"
    }
   ],
   "source": [
    "plot(market$X ,market$Y, xlab=\"광고료\", ylab=\"총판매액\", pch=19)\n",
    "title(\"광고료와 판매액의 산점도\")\n",
    "abline(market.lm)"
   ]
  },
  {
   "cell_type": "markdown",
   "metadata": {},
   "source": [
    "## 잔차"
   ]
  },
  {
   "cell_type": "code",
   "execution_count": 7,
   "metadata": {},
   "outputs": [
    {
     "data": {
      "text/html": [
       "<ol class=list-inline>\n",
       "\t<li>'coefficients'</li>\n",
       "\t<li>'residuals'</li>\n",
       "\t<li>'effects'</li>\n",
       "\t<li>'rank'</li>\n",
       "\t<li>'fitted.values'</li>\n",
       "\t<li>'assign'</li>\n",
       "\t<li>'qr'</li>\n",
       "\t<li>'df.residual'</li>\n",
       "\t<li>'xlevels'</li>\n",
       "\t<li>'call'</li>\n",
       "\t<li>'terms'</li>\n",
       "\t<li>'model'</li>\n",
       "</ol>\n"
      ],
      "text/latex": [
       "\\begin{enumerate*}\n",
       "\\item 'coefficients'\n",
       "\\item 'residuals'\n",
       "\\item 'effects'\n",
       "\\item 'rank'\n",
       "\\item 'fitted.values'\n",
       "\\item 'assign'\n",
       "\\item 'qr'\n",
       "\\item 'df.residual'\n",
       "\\item 'xlevels'\n",
       "\\item 'call'\n",
       "\\item 'terms'\n",
       "\\item 'model'\n",
       "\\end{enumerate*}\n"
      ],
      "text/markdown": [
       "1. 'coefficients'\n",
       "2. 'residuals'\n",
       "3. 'effects'\n",
       "4. 'rank'\n",
       "5. 'fitted.values'\n",
       "6. 'assign'\n",
       "7. 'qr'\n",
       "8. 'df.residual'\n",
       "9. 'xlevels'\n",
       "10. 'call'\n",
       "11. 'terms'\n",
       "12. 'model'\n",
       "\n",
       "\n"
      ],
      "text/plain": [
       " [1] \"coefficients\"  \"residuals\"     \"effects\"       \"rank\"         \n",
       " [5] \"fitted.values\" \"assign\"        \"qr\"            \"df.residual\"  \n",
       " [9] \"xlevels\"       \"call\"          \"terms\"         \"model\"        "
      ]
     },
     "metadata": {},
     "output_type": "display_data"
    }
   ],
   "source": [
    "names(market.lm)"
   ]
  },
  {
   "cell_type": "code",
   "execution_count": 9,
   "metadata": {},
   "outputs": [
    {
     "data": {
      "text/html": [
       "<dl class=dl-horizontal>\n",
       "\t<dt>1</dt>\n",
       "\t\t<dd>-0.0568508273271724</dd>\n",
       "\t<dt>2</dt>\n",
       "\t\t<dd>-0.100448558521981</dd>\n",
       "\t<dt>3</dt>\n",
       "\t\t<dd>2.47981232869759</dd>\n",
       "\t<dt>4</dt>\n",
       "\t\t<dd>1.24922533245356</dd>\n",
       "\t<dt>5</dt>\n",
       "\t\t<dd>0.7288340016242</dd>\n",
       "\t<dt>6</dt>\n",
       "\t\t<dd>1.34575804486854</dd>\n",
       "\t<dt>7</dt>\n",
       "\t\t<dd>-1.80110077657091</dd>\n",
       "\t<dt>8</dt>\n",
       "\t\t<dd>2.5151710486245</dd>\n",
       "\t<dt>9</dt>\n",
       "\t\t<dd>-1.99632905288803</dd>\n",
       "\t<dt>10</dt>\n",
       "\t\t<dd>0.394779717795149</dd>\n",
       "\t<dt>11</dt>\n",
       "\t\t<dd>-0.905872500253782</dd>\n",
       "\t<dt>12</dt>\n",
       "\t\t<dd>0.599551441478022</dd>\n",
       "\t<dt>13</dt>\n",
       "\t\t<dd>-0.614763729570601</dd>\n",
       "\t<dt>14</dt>\n",
       "\t\t<dd>-1.80868756978987</dd>\n",
       "\t<dt>15</dt>\n",
       "\t\t<dd>-2.02907890061922</dd>\n",
       "</dl>\n"
      ],
      "text/latex": [
       "\\begin{description*}\n",
       "\\item[1] -0.0568508273271724\n",
       "\\item[2] -0.100448558521981\n",
       "\\item[3] 2.47981232869759\n",
       "\\item[4] 1.24922533245356\n",
       "\\item[5] 0.7288340016242\n",
       "\\item[6] 1.34575804486854\n",
       "\\item[7] -1.80110077657091\n",
       "\\item[8] 2.5151710486245\n",
       "\\item[9] -1.99632905288803\n",
       "\\item[10] 0.394779717795149\n",
       "\\item[11] -0.905872500253782\n",
       "\\item[12] 0.599551441478022\n",
       "\\item[13] -0.614763729570601\n",
       "\\item[14] -1.80868756978987\n",
       "\\item[15] -2.02907890061922\n",
       "\\end{description*}\n"
      ],
      "text/markdown": [
       "1\n",
       ":   -0.05685082732717242\n",
       ":   -0.1004485585219813\n",
       ":   2.479812328697594\n",
       ":   1.249225332453565\n",
       ":   0.72883400162426\n",
       ":   1.345758044868547\n",
       ":   -1.801100776570918\n",
       ":   2.51517104862459\n",
       ":   -1.9963290528880310\n",
       ":   0.39477971779514911\n",
       ":   -0.90587250025378212\n",
       ":   0.59955144147802213\n",
       ":   -0.61476372957060114\n",
       ":   -1.8086875697898715\n",
       ":   -2.02907890061922\n",
       "\n"
      ],
      "text/plain": [
       "          1           2           3           4           5           6 \n",
       "-0.05685083 -0.10044856  2.47981233  1.24922533  0.72883400  1.34575804 \n",
       "          7           8           9          10          11          12 \n",
       "-1.80110078  2.51517105 -1.99632905  0.39477972 -0.90587250  0.59955144 \n",
       "         13          14          15 \n",
       "-0.61476373 -1.80868757 -2.02907890 "
      ]
     },
     "metadata": {},
     "output_type": "display_data"
    }
   ],
   "source": [
    "# 잔차항들\n",
    "market.lm$resid"
   ]
  },
  {
   "cell_type": "code",
   "execution_count": 10,
   "metadata": {},
   "outputs": [
    {
     "data": {
      "text/html": [
       "-2.4980018054066e-16"
      ],
      "text/latex": [
       "-2.4980018054066e-16"
      ],
      "text/markdown": [
       "-2.4980018054066e-16"
      ],
      "text/plain": [
       "[1] -2.498002e-16"
      ]
     },
     "metadata": {},
     "output_type": "display_data"
    }
   ],
   "source": [
    "# 잔차항들의 합\n",
    "sum(market.lm$resid)"
   ]
  },
  {
   "cell_type": "code",
   "execution_count": 11,
   "metadata": {},
   "outputs": [
    {
     "data": {
      "text/html": [
       "-1.36002320516582e-15"
      ],
      "text/latex": [
       "-1.36002320516582e-15"
      ],
      "text/markdown": [
       "-1.36002320516582e-15"
      ],
      "text/plain": [
       "[1] -1.360023e-15"
      ]
     },
     "metadata": {},
     "output_type": "display_data"
    }
   ],
   "source": [
    "# 잔차와 독릭변수의 곱의 합(가중합)\n",
    "sum(market$X*market.lm$resid)"
   ]
  },
  {
   "cell_type": "markdown",
   "metadata": {},
   "source": [
    "## 회귀모형의 정도"
   ]
  },
  {
   "cell_type": "code",
   "execution_count": 12,
   "metadata": {},
   "outputs": [
    {
     "data": {
      "text/html": [
       "<table>\n",
       "<thead><tr><th></th><th scope=col>Df</th><th scope=col>Sum Sq</th><th scope=col>Mean Sq</th><th scope=col>F value</th><th scope=col>Pr(&gt;F)</th></tr></thead>\n",
       "<tbody>\n",
       "\t<tr><th scope=row>X</th><td> 1          </td><td>485.57264   </td><td>485.572638  </td><td>192.9033    </td><td>3.553647e-09</td></tr>\n",
       "\t<tr><th scope=row>Residuals</th><td>13          </td><td> 32.72336   </td><td>  2.517182  </td><td>      NA    </td><td>          NA</td></tr>\n",
       "</tbody>\n",
       "</table>\n"
      ],
      "text/latex": [
       "\\begin{tabular}{r|lllll}\n",
       "  & Df & Sum Sq & Mean Sq & F value & Pr(>F)\\\\\n",
       "\\hline\n",
       "\tX &  1           & 485.57264    & 485.572638   & 192.9033     & 3.553647e-09\\\\\n",
       "\tResiduals & 13           &  32.72336    &   2.517182   &       NA     &           NA\\\\\n",
       "\\end{tabular}\n"
      ],
      "text/markdown": [
       "\n",
       "| <!--/--> | Df | Sum Sq | Mean Sq | F value | Pr(>F) |\n",
       "|---|---|---|---|---|---|\n",
       "| X |  1           | 485.57264    | 485.572638   | 192.9033     | 3.553647e-09 |\n",
       "| Residuals | 13           |  32.72336    |   2.517182   |       NA     |           NA |\n",
       "\n"
      ],
      "text/plain": [
       "          Df Sum Sq    Mean Sq    F value  Pr(>F)      \n",
       "X          1 485.57264 485.572638 192.9033 3.553647e-09\n",
       "Residuals 13  32.72336   2.517182       NA           NA"
      ]
     },
     "metadata": {},
     "output_type": "display_data"
    }
   ],
   "source": [
    "# 분산분석표\n",
    "anova(market.lm)"
   ]
  },
  {
   "cell_type": "code",
   "execution_count": 13,
   "metadata": {},
   "outputs": [
    {
     "data": {
      "text/html": [
       "4.66719273182685"
      ],
      "text/latex": [
       "4.66719273182685"
      ],
      "text/markdown": [
       "4.66719273182685"
      ],
      "text/plain": [
       "[1] 4.667193"
      ]
     },
     "metadata": {},
     "output_type": "display_data"
    }
   ],
   "source": [
    "# 유의수준 a=0.05에서 F-기각역 F(1, 13;0.05)\n",
    "qf(0.95, 1, 13)"
   ]
  },
  {
   "cell_type": "code",
   "execution_count": 14,
   "metadata": {},
   "outputs": [
    {
     "data": {
      "text/html": [
       "3.55401819085444e-09"
      ],
      "text/latex": [
       "3.55401819085444e-09"
      ],
      "text/markdown": [
       "3.55401819085444e-09"
      ],
      "text/plain": [
       "[1] 3.554018e-09"
      ]
     },
     "metadata": {},
     "output_type": "display_data"
    }
   ],
   "source": [
    "# 유의확률 p값\n",
    "1-pf(192.9, 1, 13)"
   ]
  },
  {
   "cell_type": "code",
   "execution_count": 15,
   "metadata": {},
   "outputs": [
    {
     "data": {
      "text/plain": [
       "\n",
       "Call:\n",
       "lm(formula = Y ~ X, data = market)\n",
       "\n",
       "Residuals:\n",
       "     Min       1Q   Median       3Q      Max \n",
       "-2.02908 -1.35349 -0.05685  0.98903  2.51517 \n",
       "\n",
       "Coefficients:\n",
       "            Estimate Std. Error t value Pr(>|t|)    \n",
       "(Intercept)   0.3282     1.4302   0.229    0.822    \n",
       "X             2.1497     0.1548  13.889 3.55e-09 ***\n",
       "---\n",
       "Signif. codes:  0 '***' 0.001 '**' 0.01 '*' 0.05 '.' 0.1 ' ' 1\n",
       "\n",
       "Residual standard error: 1.587 on 13 degrees of freedom\n",
       "Multiple R-squared:  0.9369,\tAdjusted R-squared:  0.932 \n",
       "F-statistic: 192.9 on 1 and 13 DF,  p-value: 3.554e-09\n"
      ]
     },
     "metadata": {},
     "output_type": "display_data"
    }
   ],
   "source": [
    "summary(market.lm)"
   ]
  },
  {
   "cell_type": "markdown",
   "metadata": {},
   "source": [
    "## 단순회귀의 추정과 검정"
   ]
  },
  {
   "cell_type": "code",
   "execution_count": 22,
   "metadata": {},
   "outputs": [
    {
     "data": {
      "text/html": [
       "<table>\n",
       "<thead><tr><th scope=col>fit</th><th scope=col>lwr</th><th scope=col>upr</th></tr></thead>\n",
       "<tbody>\n",
       "\t<tr><td> 7.852079</td><td>5.855247 </td><td> 9.848911</td></tr>\n",
       "\t<tr><td> 8.282014</td><td>6.344903 </td><td>10.219125</td></tr>\n",
       "\t<tr><td> 8.711949</td><td>6.834076 </td><td>10.589821</td></tr>\n",
       "\t<tr><td> 9.141883</td><td>7.322721 </td><td>10.961046</td></tr>\n",
       "\t<tr><td> 9.571818</td><td>7.810782 </td><td>11.332854</td></tr>\n",
       "\t<tr><td>10.001753</td><td>8.298202 </td><td>11.705304</td></tr>\n",
       "</tbody>\n",
       "</table>\n"
      ],
      "text/latex": [
       "\\begin{tabular}{r|lll}\n",
       " fit & lwr & upr\\\\\n",
       "\\hline\n",
       "\t  7.852079 & 5.855247  &  9.848911\\\\\n",
       "\t  8.282014 & 6.344903  & 10.219125\\\\\n",
       "\t  8.711949 & 6.834076  & 10.589821\\\\\n",
       "\t  9.141883 & 7.322721  & 10.961046\\\\\n",
       "\t  9.571818 & 7.810782  & 11.332854\\\\\n",
       "\t 10.001753 & 8.298202  & 11.705304\\\\\n",
       "\\end{tabular}\n"
      ],
      "text/markdown": [
       "\n",
       "| fit | lwr | upr |\n",
       "|---|---|---|\n",
       "|  7.852079 | 5.855247  |  9.848911 |\n",
       "|  8.282014 | 6.344903  | 10.219125 |\n",
       "|  8.711949 | 6.834076  | 10.589821 |\n",
       "|  9.141883 | 7.322721  | 10.961046 |\n",
       "|  9.571818 | 7.810782  | 11.332854 |\n",
       "| 10.001753 | 8.298202  | 11.705304 |\n",
       "\n"
      ],
      "text/plain": [
       "  fit       lwr      upr      \n",
       "1  7.852079 5.855247  9.848911\n",
       "2  8.282014 6.344903 10.219125\n",
       "3  8.711949 6.834076 10.589821\n",
       "4  9.141883 7.322721 10.961046\n",
       "5  9.571818 7.810782 11.332854\n",
       "6 10.001753 8.298202 11.705304"
      ]
     },
     "metadata": {},
     "output_type": "display_data"
    }
   ],
   "source": [
    "# 3.5부터 14.5까지 0.2씩\n",
    "pred.frame = data.frame(X=seq(3.5, 14.5, 0.2))\n",
    "pc = predict(market.lm, int=\"c\", newdata=pred.frame)\n",
    "pp = predict(market.lm, int=\"p\", newdata=pred.frame)"
   ]
  },
  {
   "cell_type": "code",
   "execution_count": 23,
   "metadata": {},
   "outputs": [
    {
     "data": {
      "text/html": [
       "<table>\n",
       "<thead><tr><th scope=col>fit</th><th scope=col>lwr</th><th scope=col>upr</th></tr></thead>\n",
       "<tbody>\n",
       "\t<tr><td> 7.852079</td><td>5.855247 </td><td> 9.848911</td></tr>\n",
       "\t<tr><td> 8.282014</td><td>6.344903 </td><td>10.219125</td></tr>\n",
       "\t<tr><td> 8.711949</td><td>6.834076 </td><td>10.589821</td></tr>\n",
       "\t<tr><td> 9.141883</td><td>7.322721 </td><td>10.961046</td></tr>\n",
       "\t<tr><td> 9.571818</td><td>7.810782 </td><td>11.332854</td></tr>\n",
       "\t<tr><td>10.001753</td><td>8.298202 </td><td>11.705304</td></tr>\n",
       "</tbody>\n",
       "</table>\n"
      ],
      "text/latex": [
       "\\begin{tabular}{r|lll}\n",
       " fit & lwr & upr\\\\\n",
       "\\hline\n",
       "\t  7.852079 & 5.855247  &  9.848911\\\\\n",
       "\t  8.282014 & 6.344903  & 10.219125\\\\\n",
       "\t  8.711949 & 6.834076  & 10.589821\\\\\n",
       "\t  9.141883 & 7.322721  & 10.961046\\\\\n",
       "\t  9.571818 & 7.810782  & 11.332854\\\\\n",
       "\t 10.001753 & 8.298202  & 11.705304\\\\\n",
       "\\end{tabular}\n"
      ],
      "text/markdown": [
       "\n",
       "| fit | lwr | upr |\n",
       "|---|---|---|\n",
       "|  7.852079 | 5.855247  |  9.848911 |\n",
       "|  8.282014 | 6.344903  | 10.219125 |\n",
       "|  8.711949 | 6.834076  | 10.589821 |\n",
       "|  9.141883 | 7.322721  | 10.961046 |\n",
       "|  9.571818 | 7.810782  | 11.332854 |\n",
       "| 10.001753 | 8.298202  | 11.705304 |\n",
       "\n"
      ],
      "text/plain": [
       "  fit       lwr      upr      \n",
       "1  7.852079 5.855247  9.848911\n",
       "2  8.282014 6.344903 10.219125\n",
       "3  8.711949 6.834076 10.589821\n",
       "4  9.141883 7.322721 10.961046\n",
       "5  9.571818 7.810782 11.332854\n",
       "6 10.001753 8.298202 11.705304"
      ]
     },
     "metadata": {},
     "output_type": "display_data"
    }
   ],
   "source": [
    "# 기댓값의 신뢰구간\n",
    "head(pc)"
   ]
  },
  {
   "cell_type": "code",
   "execution_count": 24,
   "metadata": {},
   "outputs": [
    {
     "data": {
      "text/html": [
       "<table>\n",
       "<thead><tr><th scope=col>fit</th><th scope=col>lwr</th><th scope=col>upr</th></tr></thead>\n",
       "<tbody>\n",
       "\t<tr><td> 7.852079</td><td>3.885278 </td><td>11.81888 </td></tr>\n",
       "\t<tr><td> 8.282014</td><td>4.344937 </td><td>12.21909 </td></tr>\n",
       "\t<tr><td> 8.711949</td><td>4.803678 </td><td>12.62022 </td></tr>\n",
       "\t<tr><td> 9.141883</td><td>5.261481 </td><td>13.02229 </td></tr>\n",
       "\t<tr><td> 9.571818</td><td>5.718324 </td><td>13.42531 </td></tr>\n",
       "\t<tr><td>10.001753</td><td>6.174188 </td><td>13.82932 </td></tr>\n",
       "</tbody>\n",
       "</table>\n"
      ],
      "text/latex": [
       "\\begin{tabular}{r|lll}\n",
       " fit & lwr & upr\\\\\n",
       "\\hline\n",
       "\t  7.852079 & 3.885278  & 11.81888 \\\\\n",
       "\t  8.282014 & 4.344937  & 12.21909 \\\\\n",
       "\t  8.711949 & 4.803678  & 12.62022 \\\\\n",
       "\t  9.141883 & 5.261481  & 13.02229 \\\\\n",
       "\t  9.571818 & 5.718324  & 13.42531 \\\\\n",
       "\t 10.001753 & 6.174188  & 13.82932 \\\\\n",
       "\\end{tabular}\n"
      ],
      "text/markdown": [
       "\n",
       "| fit | lwr | upr |\n",
       "|---|---|---|\n",
       "|  7.852079 | 3.885278  | 11.81888  |\n",
       "|  8.282014 | 4.344937  | 12.21909  |\n",
       "|  8.711949 | 4.803678  | 12.62022  |\n",
       "|  9.141883 | 5.261481  | 13.02229  |\n",
       "|  9.571818 | 5.718324  | 13.42531  |\n",
       "| 10.001753 | 6.174188  | 13.82932  |\n",
       "\n"
      ],
      "text/plain": [
       "  fit       lwr      upr     \n",
       "1  7.852079 3.885278 11.81888\n",
       "2  8.282014 4.344937 12.21909\n",
       "3  8.711949 4.803678 12.62022\n",
       "4  9.141883 5.261481 13.02229\n",
       "5  9.571818 5.718324 13.42531\n",
       "6 10.001753 6.174188 13.82932"
      ]
     },
     "metadata": {},
     "output_type": "display_data"
    }
   ],
   "source": [
    "# 새로운갑의 신뢰구간\n",
    "head(pp)"
   ]
  },
  {
   "cell_type": "markdown",
   "metadata": {},
   "source": [
    "## 가중회귀"
   ]
  },
  {
   "cell_type": "code",
   "execution_count": 1,
   "metadata": {},
   "outputs": [
    {
     "data": {
      "text/plain": [
       "\n",
       "Call:\n",
       "lm(formula = y ~ x, weights = x)\n",
       "\n",
       "Weighted Residuals:\n",
       "      1       2       3       4       5 \n",
       "-0.3429 -1.0102 -0.1485  3.0857 -1.8527 \n",
       "\n",
       "Coefficients:\n",
       "            Estimate Std. Error t value Pr(>|t|)  \n",
       "(Intercept)   0.9714     1.7391   0.559   0.6154  \n",
       "x             1.3714     0.4490   3.054   0.0552 .\n",
       "---\n",
       "Signif. codes:  0 '***' 0.001 '**' 0.01 '*' 0.05 '.' 0.1 ' ' 1\n",
       "\n",
       "Residual standard error: 2.169 on 3 degrees of freedom\n",
       "Multiple R-squared:  0.7567,\tAdjusted R-squared:  0.6755 \n",
       "F-statistic: 9.328 on 1 and 3 DF,  p-value: 0.05525\n"
      ]
     },
     "metadata": {},
     "output_type": "display_data"
    }
   ],
   "source": [
    "x=c(1,2,3,4,5)\n",
    "y=c(2,3,5,8,7)\n",
    "w = 1/x\n",
    "w.lm = lm(y~ x, weights = x)\n",
    "summary(w.lm)"
   ]
  },
  {
   "cell_type": "code",
   "execution_count": 2,
   "metadata": {},
   "outputs": [
    {
     "data": {
      "text/html": [
       "<table>\n",
       "<thead><tr><th></th><th scope=col>Df</th><th scope=col>Sum Sq</th><th scope=col>Mean Sq</th><th scope=col>F value</th><th scope=col>Pr(&gt;F)</th></tr></thead>\n",
       "<tbody>\n",
       "\t<tr><th scope=row>x</th><td>1         </td><td>43.88571  </td><td>43.885714 </td><td>9.327935  </td><td>0.05524624</td></tr>\n",
       "\t<tr><th scope=row>Residuals</th><td>3         </td><td>14.11429  </td><td> 4.704762 </td><td>      NA  </td><td>        NA</td></tr>\n",
       "</tbody>\n",
       "</table>\n"
      ],
      "text/latex": [
       "\\begin{tabular}{r|lllll}\n",
       "  & Df & Sum Sq & Mean Sq & F value & Pr(>F)\\\\\n",
       "\\hline\n",
       "\tx & 1          & 43.88571   & 43.885714  & 9.327935   & 0.05524624\\\\\n",
       "\tResiduals & 3          & 14.11429   &  4.704762  &       NA   &         NA\\\\\n",
       "\\end{tabular}\n"
      ],
      "text/markdown": [
       "\n",
       "| <!--/--> | Df | Sum Sq | Mean Sq | F value | Pr(>F) |\n",
       "|---|---|---|---|---|---|\n",
       "| x | 1          | 43.88571   | 43.885714  | 9.327935   | 0.05524624 |\n",
       "| Residuals | 3          | 14.11429   |  4.704762  |       NA   |         NA |\n",
       "\n"
      ],
      "text/plain": [
       "          Df Sum Sq   Mean Sq   F value  Pr(>F)    \n",
       "x         1  43.88571 43.885714 9.327935 0.05524624\n",
       "Residuals 3  14.11429  4.704762       NA         NA"
      ]
     },
     "metadata": {},
     "output_type": "display_data"
    }
   ],
   "source": [
    "anova(w.lm)"
   ]
  },
  {
   "cell_type": "markdown",
   "metadata": {},
   "source": [
    "## 분석사례"
   ]
  },
  {
   "cell_type": "code",
   "execution_count": 5,
   "metadata": {},
   "outputs": [
    {
     "data": {
      "text/html": [
       "<table>\n",
       "<thead><tr><th scope=col>price</th><th scope=col>time</th></tr></thead>\n",
       "<tbody>\n",
       "\t<tr><td> 6.4</td><td>1.7 </td></tr>\n",
       "\t<tr><td>16.1</td><td>2.7 </td></tr>\n",
       "\t<tr><td>42.1</td><td>4.9 </td></tr>\n",
       "</tbody>\n",
       "</table>\n"
      ],
      "text/latex": [
       "\\begin{tabular}{r|ll}\n",
       " price & time\\\\\n",
       "\\hline\n",
       "\t  6.4 & 1.7 \\\\\n",
       "\t 16.1 & 2.7 \\\\\n",
       "\t 42.1 & 4.9 \\\\\n",
       "\\end{tabular}\n"
      ],
      "text/markdown": [
       "\n",
       "| price | time |\n",
       "|---|---|\n",
       "|  6.4 | 1.7  |\n",
       "| 16.1 | 2.7  |\n",
       "| 42.1 | 4.9  |\n",
       "\n"
      ],
      "text/plain": [
       "  price time\n",
       "1  6.4  1.7 \n",
       "2 16.1  2.7 \n",
       "3 42.1  4.9 "
      ]
     },
     "metadata": {},
     "output_type": "display_data"
    }
   ],
   "source": [
    "super=read.table(\"reg/supermarket.txt\", header=T)\n",
    "head(super,3)"
   ]
  },
  {
   "cell_type": "code",
   "execution_count": 6,
   "metadata": {},
   "outputs": [
    {
     "data": {
      "text/plain": [
       "\n",
       "Call:\n",
       "lm(formula = time ~ price, data = super)\n",
       "\n",
       "Residuals:\n",
       "     Min       1Q   Median       3Q      Max \n",
       "-0.37928 -0.32771 -0.04431  0.32231  0.56126 \n",
       "\n",
       "Coefficients:\n",
       "            Estimate Std. Error t value Pr(>|t|)    \n",
       "(Intercept) 0.396460   0.191488    2.07   0.0722 .  \n",
       "price       0.115982   0.008979   12.92 1.22e-06 ***\n",
       "---\n",
       "Signif. codes:  0 '***' 0.001 '**' 0.01 '*' 0.05 '.' 0.1 ' ' 1\n",
       "\n",
       "Residual standard error: 0.3925 on 8 degrees of freedom\n",
       "Multiple R-squared:  0.9542,\tAdjusted R-squared:  0.9485 \n",
       "F-statistic: 166.9 on 1 and 8 DF,  p-value: 1.221e-06\n"
      ]
     },
     "metadata": {},
     "output_type": "display_data"
    }
   ],
   "source": [
    "super.lm=lm(time ~ price, data=super)\n",
    "summary(super.lm)"
   ]
  },
  {
   "cell_type": "code",
   "execution_count": 7,
   "metadata": {},
   "outputs": [
    {
     "data": {
      "text/html": [
       "<table>\n",
       "<thead><tr><th></th><th scope=col>Df</th><th scope=col>Sum Sq</th><th scope=col>Mean Sq</th><th scope=col>F value</th><th scope=col>Pr(&gt;F)</th></tr></thead>\n",
       "<tbody>\n",
       "\t<tr><th scope=row>price</th><td>1           </td><td>25.703598   </td><td>25.7035980  </td><td>166.852     </td><td>1.220793e-06</td></tr>\n",
       "\t<tr><th scope=row>Residuals</th><td>8           </td><td> 1.232402   </td><td> 0.1540502  </td><td>     NA     </td><td>          NA</td></tr>\n",
       "</tbody>\n",
       "</table>\n"
      ],
      "text/latex": [
       "\\begin{tabular}{r|lllll}\n",
       "  & Df & Sum Sq & Mean Sq & F value & Pr(>F)\\\\\n",
       "\\hline\n",
       "\tprice & 1            & 25.703598    & 25.7035980   & 166.852      & 1.220793e-06\\\\\n",
       "\tResiduals & 8            &  1.232402    &  0.1540502   &      NA      &           NA\\\\\n",
       "\\end{tabular}\n"
      ],
      "text/markdown": [
       "\n",
       "| <!--/--> | Df | Sum Sq | Mean Sq | F value | Pr(>F) |\n",
       "|---|---|---|---|---|---|\n",
       "| price | 1            | 25.703598    | 25.7035980   | 166.852      | 1.220793e-06 |\n",
       "| Residuals | 8            |  1.232402    |  0.1540502   |      NA      |           NA |\n",
       "\n"
      ],
      "text/plain": [
       "          Df Sum Sq    Mean Sq    F value Pr(>F)      \n",
       "price     1  25.703598 25.7035980 166.852 1.220793e-06\n",
       "Residuals 8   1.232402  0.1540502      NA           NA"
      ]
     },
     "metadata": {},
     "output_type": "display_data"
    }
   ],
   "source": [
    "anova(super.lm)"
   ]
  },
  {
   "cell_type": "code",
   "execution_count": 8,
   "metadata": {},
   "outputs": [
    {
     "data": {
      "text/html": [
       "<ol class=list-inline>\n",
       "\t<li>'coefficients'</li>\n",
       "\t<li>'residuals'</li>\n",
       "\t<li>'effects'</li>\n",
       "\t<li>'rank'</li>\n",
       "\t<li>'fitted.values'</li>\n",
       "\t<li>'assign'</li>\n",
       "\t<li>'qr'</li>\n",
       "\t<li>'df.residual'</li>\n",
       "\t<li>'xlevels'</li>\n",
       "\t<li>'call'</li>\n",
       "\t<li>'terms'</li>\n",
       "\t<li>'model'</li>\n",
       "</ol>\n"
      ],
      "text/latex": [
       "\\begin{enumerate*}\n",
       "\\item 'coefficients'\n",
       "\\item 'residuals'\n",
       "\\item 'effects'\n",
       "\\item 'rank'\n",
       "\\item 'fitted.values'\n",
       "\\item 'assign'\n",
       "\\item 'qr'\n",
       "\\item 'df.residual'\n",
       "\\item 'xlevels'\n",
       "\\item 'call'\n",
       "\\item 'terms'\n",
       "\\item 'model'\n",
       "\\end{enumerate*}\n"
      ],
      "text/markdown": [
       "1. 'coefficients'\n",
       "2. 'residuals'\n",
       "3. 'effects'\n",
       "4. 'rank'\n",
       "5. 'fitted.values'\n",
       "6. 'assign'\n",
       "7. 'qr'\n",
       "8. 'df.residual'\n",
       "9. 'xlevels'\n",
       "10. 'call'\n",
       "11. 'terms'\n",
       "12. 'model'\n",
       "\n",
       "\n"
      ],
      "text/plain": [
       " [1] \"coefficients\"  \"residuals\"     \"effects\"       \"rank\"         \n",
       " [5] \"fitted.values\" \"assign\"        \"qr\"            \"df.residual\"  \n",
       " [9] \"xlevels\"       \"call\"          \"terms\"         \"model\"        "
      ]
     },
     "metadata": {},
     "output_type": "display_data"
    }
   ],
   "source": [
    "names(super.lm)"
   ]
  },
  {
   "cell_type": "code",
   "execution_count": 9,
   "metadata": {},
   "outputs": [
    {
     "data": {
      "text/html": [
       "<table>\n",
       "<thead><tr><th scope=col>price</th><th scope=col>time</th><th scope=col>super.lm$resid</th><th scope=col>super.lm$fitted</th></tr></thead>\n",
       "<tbody>\n",
       "\t<tr><td> 6.4       </td><td>1.7        </td><td> 0.56125840</td><td>1.138742   </td></tr>\n",
       "\t<tr><td>16.1       </td><td>2.7        </td><td> 0.43623742</td><td>2.263763   </td></tr>\n",
       "\t<tr><td>42.1       </td><td>4.9        </td><td>-0.37928275</td><td>5.279283   </td></tr>\n",
       "\t<tr><td> 2.1       </td><td>0.3        </td><td>-0.34002095</td><td>0.640021   </td></tr>\n",
       "\t<tr><td>30.7       </td><td>3.9        </td><td>-0.05709314</td><td>3.957093   </td></tr>\n",
       "\t<tr><td>32.1       </td><td>4.1        </td><td>-0.01946730</td><td>4.119467   </td></tr>\n",
       "\t<tr><td> 7.2       </td><td>1.2        </td><td>-0.03152683</td><td>1.231527   </td></tr>\n",
       "\t<tr><td> 3.4       </td><td>0.5        </td><td>-0.29079696</td><td>0.790797   </td></tr>\n",
       "\t<tr><td>20.8       </td><td>3.3        </td><td> 0.49112416</td><td>2.808876   </td></tr>\n",
       "\t<tr><td> 1.5       </td><td>0.2        </td><td>-0.37043203</td><td>0.570432   </td></tr>\n",
       "</tbody>\n",
       "</table>\n"
      ],
      "text/latex": [
       "\\begin{tabular}{r|llll}\n",
       " price & time & super.lm\\$resid & super.lm\\$fitted\\\\\n",
       "\\hline\n",
       "\t  6.4        & 1.7         &  0.56125840 & 1.138742   \\\\\n",
       "\t 16.1        & 2.7         &  0.43623742 & 2.263763   \\\\\n",
       "\t 42.1        & 4.9         & -0.37928275 & 5.279283   \\\\\n",
       "\t  2.1        & 0.3         & -0.34002095 & 0.640021   \\\\\n",
       "\t 30.7        & 3.9         & -0.05709314 & 3.957093   \\\\\n",
       "\t 32.1        & 4.1         & -0.01946730 & 4.119467   \\\\\n",
       "\t  7.2        & 1.2         & -0.03152683 & 1.231527   \\\\\n",
       "\t  3.4        & 0.5         & -0.29079696 & 0.790797   \\\\\n",
       "\t 20.8        & 3.3         &  0.49112416 & 2.808876   \\\\\n",
       "\t  1.5        & 0.2         & -0.37043203 & 0.570432   \\\\\n",
       "\\end{tabular}\n"
      ],
      "text/markdown": [
       "\n",
       "| price | time | super.lm$resid | super.lm$fitted |\n",
       "|---|---|---|---|\n",
       "|  6.4        | 1.7         |  0.56125840 | 1.138742    |\n",
       "| 16.1        | 2.7         |  0.43623742 | 2.263763    |\n",
       "| 42.1        | 4.9         | -0.37928275 | 5.279283    |\n",
       "|  2.1        | 0.3         | -0.34002095 | 0.640021    |\n",
       "| 30.7        | 3.9         | -0.05709314 | 3.957093    |\n",
       "| 32.1        | 4.1         | -0.01946730 | 4.119467    |\n",
       "|  7.2        | 1.2         | -0.03152683 | 1.231527    |\n",
       "|  3.4        | 0.5         | -0.29079696 | 0.790797    |\n",
       "| 20.8        | 3.3         |  0.49112416 | 2.808876    |\n",
       "|  1.5        | 0.2         | -0.37043203 | 0.570432    |\n",
       "\n"
      ],
      "text/plain": [
       "   price time super.lm$resid super.lm$fitted\n",
       "1   6.4  1.7   0.56125840    1.138742       \n",
       "2  16.1  2.7   0.43623742    2.263763       \n",
       "3  42.1  4.9  -0.37928275    5.279283       \n",
       "4   2.1  0.3  -0.34002095    0.640021       \n",
       "5  30.7  3.9  -0.05709314    3.957093       \n",
       "6  32.1  4.1  -0.01946730    4.119467       \n",
       "7   7.2  1.2  -0.03152683    1.231527       \n",
       "8   3.4  0.5  -0.29079696    0.790797       \n",
       "9  20.8  3.3   0.49112416    2.808876       \n",
       "10  1.5  0.2  -0.37043203    0.570432       "
      ]
     },
     "metadata": {},
     "output_type": "display_data"
    }
   ],
   "source": [
    "cbind(super, super.lm$resid, super.lm$fitted)"
   ]
  },
  {
   "cell_type": "code",
   "execution_count": 11,
   "metadata": {},
   "outputs": [
    {
     "data": {
      "image/png": "[encoded data removed]",
      "text/plain": [
       "plot without title"
      ]
     },
     "metadata": {},
     "output_type": "display_data"
    }
   ],
   "source": [
    "plot(super$price, super.lm$resid, pch=19)\n",
    "abline(h=0, lty=2)"
   ]
  },
  {
   "cell_type": "code",
   "execution_count": 12,
   "metadata": {},
   "outputs": [
    {
     "data": {
      "image/png": "[encoded data removed]",
      "text/plain": [
       "plot without title"
      ]
     },
     "metadata": {},
     "output_type": "display_data"
    }
   ],
   "source": [
    "p.x=data.frame(price=c(1,45))\n",
    "pc=predict(super.lm, int=\"c\", newdata=p.x)\n",
    "pred.x=p.x$price\n",
    "plot(super$price, super$time, ylim=range(super$time, pc))\n",
    "matlines(pred.x, pc, lty=c(1,2,2), col=\"BLUE\")"
   ]
  },
  {
   "cell_type": "code",
   "execution_count": null,
   "metadata": {},
   "outputs": [],
   "source": []
  }
 ],
 "metadata": {
  "kernelspec": {
   "display_name": "R",
   "language": "R",
   "name": "ir"
  },
  "language_info": {
   "codemirror_mode": "r",
   "file_extension": ".r",
   "mimetype": "text/x-r-source",
   "name": "R",
   "pygments_lexer": "r",
   "version": "3.6.1"
  }
 },
 "nbformat": 4,
 "nbformat_minor": 4
}
